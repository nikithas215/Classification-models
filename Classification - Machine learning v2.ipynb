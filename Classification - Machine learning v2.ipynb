{
  "cells": [
    {
      "attachments": {},
      "cell_type": "markdown",
      "metadata": {
        "id": "0FZeFzTWzrrd"
      },
      "source": [
        "# Classification Models\n",
        "Using scikit-learn, a popular machine learning package in python to train and tune a classifier. A particularly useful feature is that all classifiers (and linear models) are called using the same API, so it is easy to test between different models (see the sklearn-intro notebook for examples). So in this exercise we will a classification technique (logistic regression) that is representative of methods and challenges you will encounter when using any classification method.\n",
        "\n",
        "### **This document contains 2 problem sets: Dataset 1 is a credit default prediction model and  Dataset 2 relates to Patient diabetes prediction model**\n",
        "\n",
        "\n",
        "## Dataset 1\n",
        "The dataset I used is default of credit card clients Data Set.\n",
        "There are two data files: \"CreditDefault_training.csv\" and \"CreditDefault_Xtest.csv\"\n",
        "Both files have the following fields, except the label (\"default.payment.next.month\") which is not available in \"CreditDefault_Xtest.csv\" \n",
        "\n",
        "Features: \n",
        "\n",
        "1 - LIMIT_BAL:  Amount of the given credit (NT dollar): it includes both the individual consumer credit and his/her family (supplementary) credit. <br>\n",
        "2 - SEX: (1 = male; 2 = female) <br>\n",
        "3- EDUCATION: (six levels: 1,2,3,4,5,6) <br>\n",
        "4 - MARRIAGE: (1 = married; 2 = single; 3 = others) <br>\n",
        "5 - AGE <br>\n",
        "\n",
        "From \"PAY_1\" to \"PAY_6\": History of past payment (Repayment status: -2: Balance paid in full and no transactions this period; -1: Balance paid in full, but account has a positive balance at end of period due to recent transactions for which payment has not yet come due; 0: Customer paid the minimum due amount, but not the entire balance; 1 = payment delay for one month; 2 = payment delay for two months; . . .; 8 = payment delay for eight months; 9 = payment delay for nine months and above.)<br>\n",
        "6 - PAY_1: the repayment status in September, 2005 <br>\n",
        "7 - PAY_2: the repayment status in August, 2005 <br>\n",
        "...<br>\n",
        "11 - PAY_6: the repayment status in April, 2005 <br>\n",
        "\n",
        "From \"BILL_AMT1\" to \"BILL_AMT6\": Amount of bill statement (NT dollar).<br>\n",
        "12 - BILL_AMT1 : amount of bill statement in September, 2005<br>\n",
        "13 - BILL_AMT2 : amount of bill statement in August, 2005<br>\n",
        "...<br>\n",
        "17 - BILL_AMT6 : amount of bill statement in April, 2005<br>\n",
        "\n",
        "From \"PAY_AMT1\" to \"PAY_AMT6\": Amount of previous payment (NT dollar).<br>\n",
        "18 - PAY_AMT1 : amount paid in September, 2005<br>\n",
        "19 - PAY_AMT2 : amount paid in August, 2005<br>\n",
        "...<br>\n",
        "23 - PAY_AMT6 : amount paid in April, 2005<br>\n",
        "\n",
        "Target:\n",
        "\n",
        "default.payment.next.month: binary variable, whether default payment (Yes = 1, No = 0)\n",
        "\n",
        "\n",
        "Training dataset, \"CreditDefault_training.csv\", contains 3985 rows and 24 columns. This is the training set containing both of the features and the target.\n",
        "Test dataset, \"CreditDefault_Xtest.csv\", contains 1000 rows and 23 columns. This is the test set which only contains the features.\n",
        "\n",
        "Prediction task is to determine whether there's credit default for a person.\n",
        "\n"
      ]
    },
    {
      "cell_type": "code",
      "execution_count": 1,
      "metadata": {
        "id": "ZOKRx3iKPoKk"
      },
      "outputs": [],
      "source": [
        "import numpy as np\n",
        "import pandas as pd\n",
        "from google.colab import files\n",
        "import io"
      ]
    },
    {
      "cell_type": "code",
      "execution_count": 2,
      "metadata": {
        "colab": {
          "base_uri": "https://localhost:8080/",
          "height": 390
        },
        "id": "wLUGs9kXQDDG",
        "outputId": "f749fca6-279b-49eb-8241-e678c88a030c"
      },
      "outputs": [
        {
          "data": {
            "text/html": [
              "\n",
              "     <input type=\"file\" id=\"files-3d954dde-9992-4509-8eee-a6df42aae03a\" name=\"files[]\" multiple disabled\n",
              "        style=\"border:none\" />\n",
              "     <output id=\"result-3d954dde-9992-4509-8eee-a6df42aae03a\">\n",
              "      Upload widget is only available when the cell has been executed in the\n",
              "      current browser session. Please rerun this cell to enable.\n",
              "      </output>\n",
              "      <script>// Copyright 2017 Google LLC\n",
              "//\n",
              "// Licensed under the Apache License, Version 2.0 (the \"License\");\n",
              "// you may not use this file except in compliance with the License.\n",
              "// You may obtain a copy of the License at\n",
              "//\n",
              "//      http://www.apache.org/licenses/LICENSE-2.0\n",
              "//\n",
              "// Unless required by applicable law or agreed to in writing, software\n",
              "// distributed under the License is distributed on an \"AS IS\" BASIS,\n",
              "// WITHOUT WARRANTIES OR CONDITIONS OF ANY KIND, either express or implied.\n",
              "// See the License for the specific language governing permissions and\n",
              "// limitations under the License.\n",
              "\n",
              "/**\n",
              " * @fileoverview Helpers for google.colab Python module.\n",
              " */\n",
              "(function(scope) {\n",
              "function span(text, styleAttributes = {}) {\n",
              "  const element = document.createElement('span');\n",
              "  element.textContent = text;\n",
              "  for (const key of Object.keys(styleAttributes)) {\n",
              "    element.style[key] = styleAttributes[key];\n",
              "  }\n",
              "  return element;\n",
              "}\n",
              "\n",
              "// Max number of bytes which will be uploaded at a time.\n",
              "const MAX_PAYLOAD_SIZE = 100 * 1024;\n",
              "\n",
              "function _uploadFiles(inputId, outputId) {\n",
              "  const steps = uploadFilesStep(inputId, outputId);\n",
              "  const outputElement = document.getElementById(outputId);\n",
              "  // Cache steps on the outputElement to make it available for the next call\n",
              "  // to uploadFilesContinue from Python.\n",
              "  outputElement.steps = steps;\n",
              "\n",
              "  return _uploadFilesContinue(outputId);\n",
              "}\n",
              "\n",
              "// This is roughly an async generator (not supported in the browser yet),\n",
              "// where there are multiple asynchronous steps and the Python side is going\n",
              "// to poll for completion of each step.\n",
              "// This uses a Promise to block the python side on completion of each step,\n",
              "// then passes the result of the previous step as the input to the next step.\n",
              "function _uploadFilesContinue(outputId) {\n",
              "  const outputElement = document.getElementById(outputId);\n",
              "  const steps = outputElement.steps;\n",
              "\n",
              "  const next = steps.next(outputElement.lastPromiseValue);\n",
              "  return Promise.resolve(next.value.promise).then((value) => {\n",
              "    // Cache the last promise value to make it available to the next\n",
              "    // step of the generator.\n",
              "    outputElement.lastPromiseValue = value;\n",
              "    return next.value.response;\n",
              "  });\n",
              "}\n",
              "\n",
              "/**\n",
              " * Generator function which is called between each async step of the upload\n",
              " * process.\n",
              " * @param {string} inputId Element ID of the input file picker element.\n",
              " * @param {string} outputId Element ID of the output display.\n",
              " * @return {!Iterable<!Object>} Iterable of next steps.\n",
              " */\n",
              "function* uploadFilesStep(inputId, outputId) {\n",
              "  const inputElement = document.getElementById(inputId);\n",
              "  inputElement.disabled = false;\n",
              "\n",
              "  const outputElement = document.getElementById(outputId);\n",
              "  outputElement.innerHTML = '';\n",
              "\n",
              "  const pickedPromise = new Promise((resolve) => {\n",
              "    inputElement.addEventListener('change', (e) => {\n",
              "      resolve(e.target.files);\n",
              "    });\n",
              "  });\n",
              "\n",
              "  const cancel = document.createElement('button');\n",
              "  inputElement.parentElement.appendChild(cancel);\n",
              "  cancel.textContent = 'Cancel upload';\n",
              "  const cancelPromise = new Promise((resolve) => {\n",
              "    cancel.onclick = () => {\n",
              "      resolve(null);\n",
              "    };\n",
              "  });\n",
              "\n",
              "  // Wait for the user to pick the files.\n",
              "  const files = yield {\n",
              "    promise: Promise.race([pickedPromise, cancelPromise]),\n",
              "    response: {\n",
              "      action: 'starting',\n",
              "    }\n",
              "  };\n",
              "\n",
              "  cancel.remove();\n",
              "\n",
              "  // Disable the input element since further picks are not allowed.\n",
              "  inputElement.disabled = true;\n",
              "\n",
              "  if (!files) {\n",
              "    return {\n",
              "      response: {\n",
              "        action: 'complete',\n",
              "      }\n",
              "    };\n",
              "  }\n",
              "\n",
              "  for (const file of files) {\n",
              "    const li = document.createElement('li');\n",
              "    li.append(span(file.name, {fontWeight: 'bold'}));\n",
              "    li.append(span(\n",
              "        `(${file.type || 'n/a'}) - ${file.size} bytes, ` +\n",
              "        `last modified: ${\n",
              "            file.lastModifiedDate ? file.lastModifiedDate.toLocaleDateString() :\n",
              "                                    'n/a'} - `));\n",
              "    const percent = span('0% done');\n",
              "    li.appendChild(percent);\n",
              "\n",
              "    outputElement.appendChild(li);\n",
              "\n",
              "    const fileDataPromise = new Promise((resolve) => {\n",
              "      const reader = new FileReader();\n",
              "      reader.onload = (e) => {\n",
              "        resolve(e.target.result);\n",
              "      };\n",
              "      reader.readAsArrayBuffer(file);\n",
              "    });\n",
              "    // Wait for the data to be ready.\n",
              "    let fileData = yield {\n",
              "      promise: fileDataPromise,\n",
              "      response: {\n",
              "        action: 'continue',\n",
              "      }\n",
              "    };\n",
              "\n",
              "    // Use a chunked sending to avoid message size limits. See b/62115660.\n",
              "    let position = 0;\n",
              "    do {\n",
              "      const length = Math.min(fileData.byteLength - position, MAX_PAYLOAD_SIZE);\n",
              "      const chunk = new Uint8Array(fileData, position, length);\n",
              "      position += length;\n",
              "\n",
              "      const base64 = btoa(String.fromCharCode.apply(null, chunk));\n",
              "      yield {\n",
              "        response: {\n",
              "          action: 'append',\n",
              "          file: file.name,\n",
              "          data: base64,\n",
              "        },\n",
              "      };\n",
              "\n",
              "      let percentDone = fileData.byteLength === 0 ?\n",
              "          100 :\n",
              "          Math.round((position / fileData.byteLength) * 100);\n",
              "      percent.textContent = `${percentDone}% done`;\n",
              "\n",
              "    } while (position < fileData.byteLength);\n",
              "  }\n",
              "\n",
              "  // All done.\n",
              "  yield {\n",
              "    response: {\n",
              "      action: 'complete',\n",
              "    }\n",
              "  };\n",
              "}\n",
              "\n",
              "scope.google = scope.google || {};\n",
              "scope.google.colab = scope.google.colab || {};\n",
              "scope.google.colab._files = {\n",
              "  _uploadFiles,\n",
              "  _uploadFilesContinue,\n",
              "};\n",
              "})(self);\n",
              "</script> "
            ],
            "text/plain": [
              "<IPython.core.display.HTML object>"
            ]
          },
          "metadata": {},
          "output_type": "display_data"
        },
        {
          "name": "stdout",
          "output_type": "stream",
          "text": [
            "Saving CreditDefault_training.csv to CreditDefault_training.csv\n",
            "Saving CreditDefault_Xtest.csv to CreditDefault_Xtest.csv\n"
          ]
        },
        {
          "data": {
            "text/html": [
              "\n",
              "  <div id=\"df-74b882cf-8eab-400c-b022-53cd0ed3a293\">\n",
              "    <div class=\"colab-df-container\">\n",
              "      <div>\n",
              "<style scoped>\n",
              "    .dataframe tbody tr th:only-of-type {\n",
              "        vertical-align: middle;\n",
              "    }\n",
              "\n",
              "    .dataframe tbody tr th {\n",
              "        vertical-align: top;\n",
              "    }\n",
              "\n",
              "    .dataframe thead th {\n",
              "        text-align: right;\n",
              "    }\n",
              "</style>\n",
              "<table border=\"1\" class=\"dataframe\">\n",
              "  <thead>\n",
              "    <tr style=\"text-align: right;\">\n",
              "      <th></th>\n",
              "      <th>LIMIT_BAL</th>\n",
              "      <th>SEX</th>\n",
              "      <th>EDUCATION</th>\n",
              "      <th>MARRIAGE</th>\n",
              "      <th>AGE</th>\n",
              "      <th>PAY_1</th>\n",
              "      <th>PAY_2</th>\n",
              "      <th>PAY_3</th>\n",
              "      <th>PAY_4</th>\n",
              "      <th>PAY_5</th>\n",
              "      <th>...</th>\n",
              "      <th>BILL_AMT4</th>\n",
              "      <th>BILL_AMT5</th>\n",
              "      <th>BILL_AMT6</th>\n",
              "      <th>PAY_AMT1</th>\n",
              "      <th>PAY_AMT2</th>\n",
              "      <th>PAY_AMT3</th>\n",
              "      <th>PAY_AMT4</th>\n",
              "      <th>PAY_AMT5</th>\n",
              "      <th>PAY_AMT6</th>\n",
              "      <th>default.payment.next.month</th>\n",
              "    </tr>\n",
              "  </thead>\n",
              "  <tbody>\n",
              "    <tr>\n",
              "      <th>0</th>\n",
              "      <td>50000</td>\n",
              "      <td>2</td>\n",
              "      <td>2</td>\n",
              "      <td>2</td>\n",
              "      <td>24</td>\n",
              "      <td>-1</td>\n",
              "      <td>-1</td>\n",
              "      <td>-1</td>\n",
              "      <td>-1</td>\n",
              "      <td>0</td>\n",
              "      <td>...</td>\n",
              "      <td>6561</td>\n",
              "      <td>5091</td>\n",
              "      <td>353</td>\n",
              "      <td>1572</td>\n",
              "      <td>1572</td>\n",
              "      <td>6561</td>\n",
              "      <td>102</td>\n",
              "      <td>353</td>\n",
              "      <td>27000</td>\n",
              "      <td>0</td>\n",
              "    </tr>\n",
              "    <tr>\n",
              "      <th>1</th>\n",
              "      <td>70000</td>\n",
              "      <td>2</td>\n",
              "      <td>2</td>\n",
              "      <td>2</td>\n",
              "      <td>24</td>\n",
              "      <td>0</td>\n",
              "      <td>0</td>\n",
              "      <td>0</td>\n",
              "      <td>0</td>\n",
              "      <td>0</td>\n",
              "      <td>...</td>\n",
              "      <td>64733</td>\n",
              "      <td>66680</td>\n",
              "      <td>71243</td>\n",
              "      <td>3000</td>\n",
              "      <td>3000</td>\n",
              "      <td>2500</td>\n",
              "      <td>3000</td>\n",
              "      <td>5800</td>\n",
              "      <td>0</td>\n",
              "      <td>0</td>\n",
              "    </tr>\n",
              "    <tr>\n",
              "      <th>2</th>\n",
              "      <td>420000</td>\n",
              "      <td>1</td>\n",
              "      <td>1</td>\n",
              "      <td>1</td>\n",
              "      <td>43</td>\n",
              "      <td>-2</td>\n",
              "      <td>-2</td>\n",
              "      <td>-2</td>\n",
              "      <td>-2</td>\n",
              "      <td>-2</td>\n",
              "      <td>...</td>\n",
              "      <td>2846</td>\n",
              "      <td>3027</td>\n",
              "      <td>5946</td>\n",
              "      <td>14274</td>\n",
              "      <td>8232</td>\n",
              "      <td>2853</td>\n",
              "      <td>3027</td>\n",
              "      <td>5946</td>\n",
              "      <td>32053</td>\n",
              "      <td>0</td>\n",
              "    </tr>\n",
              "    <tr>\n",
              "      <th>3</th>\n",
              "      <td>30000</td>\n",
              "      <td>1</td>\n",
              "      <td>2</td>\n",
              "      <td>3</td>\n",
              "      <td>53</td>\n",
              "      <td>1</td>\n",
              "      <td>-2</td>\n",
              "      <td>-1</td>\n",
              "      <td>2</td>\n",
              "      <td>0</td>\n",
              "      <td>...</td>\n",
              "      <td>3825</td>\n",
              "      <td>3825</td>\n",
              "      <td>0</td>\n",
              "      <td>0</td>\n",
              "      <td>4070</td>\n",
              "      <td>0</td>\n",
              "      <td>0</td>\n",
              "      <td>0</td>\n",
              "      <td>0</td>\n",
              "      <td>1</td>\n",
              "    </tr>\n",
              "    <tr>\n",
              "      <th>4</th>\n",
              "      <td>50000</td>\n",
              "      <td>2</td>\n",
              "      <td>2</td>\n",
              "      <td>1</td>\n",
              "      <td>49</td>\n",
              "      <td>1</td>\n",
              "      <td>2</td>\n",
              "      <td>2</td>\n",
              "      <td>2</td>\n",
              "      <td>0</td>\n",
              "      <td>...</td>\n",
              "      <td>21951</td>\n",
              "      <td>22287</td>\n",
              "      <td>22778</td>\n",
              "      <td>1000</td>\n",
              "      <td>3321</td>\n",
              "      <td>0</td>\n",
              "      <td>1000</td>\n",
              "      <td>1000</td>\n",
              "      <td>1001</td>\n",
              "      <td>0</td>\n",
              "    </tr>\n",
              "  </tbody>\n",
              "</table>\n",
              "<p>5 rows × 24 columns</p>\n",
              "</div>\n",
              "      <button class=\"colab-df-convert\" onclick=\"convertToInteractive('df-74b882cf-8eab-400c-b022-53cd0ed3a293')\"\n",
              "              title=\"Convert this dataframe to an interactive table.\"\n",
              "              style=\"display:none;\">\n",
              "        \n",
              "  <svg xmlns=\"http://www.w3.org/2000/svg\" height=\"24px\"viewBox=\"0 0 24 24\"\n",
              "       width=\"24px\">\n",
              "    <path d=\"M0 0h24v24H0V0z\" fill=\"none\"/>\n",
              "    <path d=\"M18.56 5.44l.94 2.06.94-2.06 2.06-.94-2.06-.94-.94-2.06-.94 2.06-2.06.94zm-11 1L8.5 8.5l.94-2.06 2.06-.94-2.06-.94L8.5 2.5l-.94 2.06-2.06.94zm10 10l.94 2.06.94-2.06 2.06-.94-2.06-.94-.94-2.06-.94 2.06-2.06.94z\"/><path d=\"M17.41 7.96l-1.37-1.37c-.4-.4-.92-.59-1.43-.59-.52 0-1.04.2-1.43.59L10.3 9.45l-7.72 7.72c-.78.78-.78 2.05 0 2.83L4 21.41c.39.39.9.59 1.41.59.51 0 1.02-.2 1.41-.59l7.78-7.78 2.81-2.81c.8-.78.8-2.07 0-2.86zM5.41 20L4 18.59l7.72-7.72 1.47 1.35L5.41 20z\"/>\n",
              "  </svg>\n",
              "      </button>\n",
              "      \n",
              "  <style>\n",
              "    .colab-df-container {\n",
              "      display:flex;\n",
              "      flex-wrap:wrap;\n",
              "      gap: 12px;\n",
              "    }\n",
              "\n",
              "    .colab-df-convert {\n",
              "      background-color: #E8F0FE;\n",
              "      border: none;\n",
              "      border-radius: 50%;\n",
              "      cursor: pointer;\n",
              "      display: none;\n",
              "      fill: #1967D2;\n",
              "      height: 32px;\n",
              "      padding: 0 0 0 0;\n",
              "      width: 32px;\n",
              "    }\n",
              "\n",
              "    .colab-df-convert:hover {\n",
              "      background-color: #E2EBFA;\n",
              "      box-shadow: 0px 1px 2px rgba(60, 64, 67, 0.3), 0px 1px 3px 1px rgba(60, 64, 67, 0.15);\n",
              "      fill: #174EA6;\n",
              "    }\n",
              "\n",
              "    [theme=dark] .colab-df-convert {\n",
              "      background-color: #3B4455;\n",
              "      fill: #D2E3FC;\n",
              "    }\n",
              "\n",
              "    [theme=dark] .colab-df-convert:hover {\n",
              "      background-color: #434B5C;\n",
              "      box-shadow: 0px 1px 3px 1px rgba(0, 0, 0, 0.15);\n",
              "      filter: drop-shadow(0px 1px 2px rgba(0, 0, 0, 0.3));\n",
              "      fill: #FFFFFF;\n",
              "    }\n",
              "  </style>\n",
              "\n",
              "      <script>\n",
              "        const buttonEl =\n",
              "          document.querySelector('#df-74b882cf-8eab-400c-b022-53cd0ed3a293 button.colab-df-convert');\n",
              "        buttonEl.style.display =\n",
              "          google.colab.kernel.accessAllowed ? 'block' : 'none';\n",
              "\n",
              "        async function convertToInteractive(key) {\n",
              "          const element = document.querySelector('#df-74b882cf-8eab-400c-b022-53cd0ed3a293');\n",
              "          const dataTable =\n",
              "            await google.colab.kernel.invokeFunction('convertToInteractive',\n",
              "                                                     [key], {});\n",
              "          if (!dataTable) return;\n",
              "\n",
              "          const docLinkHtml = 'Like what you see? Visit the ' +\n",
              "            '<a target=\"_blank\" href=https://colab.research.google.com/notebooks/data_table.ipynb>data table notebook</a>'\n",
              "            + ' to learn more about interactive tables.';\n",
              "          element.innerHTML = '';\n",
              "          dataTable['output_type'] = 'display_data';\n",
              "          await google.colab.output.renderOutput(dataTable, element);\n",
              "          const docLink = document.createElement('div');\n",
              "          docLink.innerHTML = docLinkHtml;\n",
              "          element.appendChild(docLink);\n",
              "        }\n",
              "      </script>\n",
              "    </div>\n",
              "  </div>\n",
              "  "
            ],
            "text/plain": [
              "   LIMIT_BAL  SEX  EDUCATION  MARRIAGE  AGE  PAY_1  PAY_2  PAY_3  PAY_4  \\\n",
              "0      50000    2          2         2   24     -1     -1     -1     -1   \n",
              "1      70000    2          2         2   24      0      0      0      0   \n",
              "2     420000    1          1         1   43     -2     -2     -2     -2   \n",
              "3      30000    1          2         3   53      1     -2     -1      2   \n",
              "4      50000    2          2         1   49      1      2      2      2   \n",
              "\n",
              "   PAY_5  ...  BILL_AMT4  BILL_AMT5  BILL_AMT6  PAY_AMT1  PAY_AMT2  PAY_AMT3  \\\n",
              "0      0  ...       6561       5091        353      1572      1572      6561   \n",
              "1      0  ...      64733      66680      71243      3000      3000      2500   \n",
              "2     -2  ...       2846       3027       5946     14274      8232      2853   \n",
              "3      0  ...       3825       3825          0         0      4070         0   \n",
              "4      0  ...      21951      22287      22778      1000      3321         0   \n",
              "\n",
              "   PAY_AMT4  PAY_AMT5  PAY_AMT6  default.payment.next.month  \n",
              "0       102       353     27000                           0  \n",
              "1      3000      5800         0                           0  \n",
              "2      3027      5946     32053                           0  \n",
              "3         0         0         0                           1  \n",
              "4      1000      1000      1001                           0  \n",
              "\n",
              "[5 rows x 24 columns]"
            ]
          },
          "execution_count": 2,
          "metadata": {},
          "output_type": "execute_result"
        }
      ],
      "source": [
        "# Load your training data set\n",
        "uploaded = files.upload()\n",
        "\n",
        "credit_train = pd.read_csv('CreditDefault_training.csv')\n",
        "credit_train.head()"
      ]
    },
    {
      "cell_type": "code",
      "execution_count": 3,
      "metadata": {
        "id": "LYPHIV6FSUI2"
      },
      "outputs": [],
      "source": [
        "# Split training data into X and y\n",
        "credit_X_train = credit_train.loc[:,credit_train.columns != 'default.payment.next.month']\n",
        "y = credit_train['default.payment.next.month']"
      ]
    },
    {
      "cell_type": "markdown",
      "metadata": {
        "id": "YjyP9oUHTmo5"
      },
      "source": [
        "## Standardization and One-hot Encoding\n",
        "\n",
        "Standardize the continuous features and convert categorical variables ('SEX', 'EDUCATION', 'MARRIAGE', 'PAY_1', 'PAY_2', 'PAY_3', 'PAY_4', 'PAY_5', 'PAY_6') into dummy variables.<br>\n",
        "Note the situation where not all repayment status categories (-2, -1, 0, 1, 2, 3, 4, 5, 6, 7, 8, 9) necessarily appear in the training dataset for variables 'PAY_1', 'PAY_2', 'PAY_3', 'PAY_4', 'PAY_5', 'PAY_6'."
      ]
    },
    {
      "cell_type": "markdown",
      "metadata": {
        "id": "Uj3pFsrv_mv9"
      },
      "source": [
        "Standardization and one-hot encoding for training set and test set"
      ]
    },
    {
      "cell_type": "code",
      "execution_count": 4,
      "metadata": {
        "colab": {
          "base_uri": "https://localhost:8080/",
          "height": 299
        },
        "id": "zPKfTRyiKueh",
        "outputId": "b21a4a7e-f43b-4257-ed9e-0ad294bcc78d"
      },
      "outputs": [
        {
          "data": {
            "text/html": [
              "\n",
              "  <div id=\"df-f68909f6-ee71-4805-a4ef-7378b78824f3\">\n",
              "    <div class=\"colab-df-container\">\n",
              "      <div>\n",
              "<style scoped>\n",
              "    .dataframe tbody tr th:only-of-type {\n",
              "        vertical-align: middle;\n",
              "    }\n",
              "\n",
              "    .dataframe tbody tr th {\n",
              "        vertical-align: top;\n",
              "    }\n",
              "\n",
              "    .dataframe thead th {\n",
              "        text-align: right;\n",
              "    }\n",
              "</style>\n",
              "<table border=\"1\" class=\"dataframe\">\n",
              "  <thead>\n",
              "    <tr style=\"text-align: right;\">\n",
              "      <th></th>\n",
              "      <th>LIMIT_BAL</th>\n",
              "      <th>SEX</th>\n",
              "      <th>EDUCATION</th>\n",
              "      <th>MARRIAGE</th>\n",
              "      <th>AGE</th>\n",
              "      <th>PAY_1</th>\n",
              "      <th>PAY_2</th>\n",
              "      <th>PAY_3</th>\n",
              "      <th>PAY_4</th>\n",
              "      <th>PAY_5</th>\n",
              "      <th>...</th>\n",
              "      <th>BILL_AMT3</th>\n",
              "      <th>BILL_AMT4</th>\n",
              "      <th>BILL_AMT5</th>\n",
              "      <th>BILL_AMT6</th>\n",
              "      <th>PAY_AMT1</th>\n",
              "      <th>PAY_AMT2</th>\n",
              "      <th>PAY_AMT3</th>\n",
              "      <th>PAY_AMT4</th>\n",
              "      <th>PAY_AMT5</th>\n",
              "      <th>PAY_AMT6</th>\n",
              "    </tr>\n",
              "  </thead>\n",
              "  <tbody>\n",
              "    <tr>\n",
              "      <th>0</th>\n",
              "      <td>80000</td>\n",
              "      <td>1</td>\n",
              "      <td>6</td>\n",
              "      <td>1</td>\n",
              "      <td>41</td>\n",
              "      <td>0</td>\n",
              "      <td>0</td>\n",
              "      <td>0</td>\n",
              "      <td>0</td>\n",
              "      <td>0</td>\n",
              "      <td>...</td>\n",
              "      <td>133017</td>\n",
              "      <td>19164</td>\n",
              "      <td>3272</td>\n",
              "      <td>11766</td>\n",
              "      <td>4351</td>\n",
              "      <td>3520</td>\n",
              "      <td>1000</td>\n",
              "      <td>3272</td>\n",
              "      <td>11766</td>\n",
              "      <td>1740</td>\n",
              "    </tr>\n",
              "    <tr>\n",
              "      <th>1</th>\n",
              "      <td>50000</td>\n",
              "      <td>1</td>\n",
              "      <td>1</td>\n",
              "      <td>2</td>\n",
              "      <td>35</td>\n",
              "      <td>0</td>\n",
              "      <td>0</td>\n",
              "      <td>0</td>\n",
              "      <td>0</td>\n",
              "      <td>0</td>\n",
              "      <td>...</td>\n",
              "      <td>18188</td>\n",
              "      <td>18397</td>\n",
              "      <td>18161</td>\n",
              "      <td>18383</td>\n",
              "      <td>1565</td>\n",
              "      <td>7240</td>\n",
              "      <td>795</td>\n",
              "      <td>1000</td>\n",
              "      <td>673</td>\n",
              "      <td>647</td>\n",
              "    </tr>\n",
              "    <tr>\n",
              "      <th>2</th>\n",
              "      <td>80000</td>\n",
              "      <td>2</td>\n",
              "      <td>1</td>\n",
              "      <td>1</td>\n",
              "      <td>42</td>\n",
              "      <td>2</td>\n",
              "      <td>2</td>\n",
              "      <td>2</td>\n",
              "      <td>2</td>\n",
              "      <td>2</td>\n",
              "      <td>...</td>\n",
              "      <td>20471</td>\n",
              "      <td>20638</td>\n",
              "      <td>21003</td>\n",
              "      <td>20529</td>\n",
              "      <td>1600</td>\n",
              "      <td>1700</td>\n",
              "      <td>800</td>\n",
              "      <td>1000</td>\n",
              "      <td>0</td>\n",
              "      <td>2000</td>\n",
              "    </tr>\n",
              "    <tr>\n",
              "      <th>3</th>\n",
              "      <td>160000</td>\n",
              "      <td>2</td>\n",
              "      <td>2</td>\n",
              "      <td>2</td>\n",
              "      <td>27</td>\n",
              "      <td>0</td>\n",
              "      <td>0</td>\n",
              "      <td>0</td>\n",
              "      <td>0</td>\n",
              "      <td>0</td>\n",
              "      <td>...</td>\n",
              "      <td>80240</td>\n",
              "      <td>39835</td>\n",
              "      <td>41150</td>\n",
              "      <td>0</td>\n",
              "      <td>3600</td>\n",
              "      <td>3700</td>\n",
              "      <td>1700</td>\n",
              "      <td>2000</td>\n",
              "      <td>0</td>\n",
              "      <td>0</td>\n",
              "    </tr>\n",
              "    <tr>\n",
              "      <th>4</th>\n",
              "      <td>30000</td>\n",
              "      <td>1</td>\n",
              "      <td>1</td>\n",
              "      <td>1</td>\n",
              "      <td>30</td>\n",
              "      <td>0</td>\n",
              "      <td>0</td>\n",
              "      <td>0</td>\n",
              "      <td>0</td>\n",
              "      <td>0</td>\n",
              "      <td>...</td>\n",
              "      <td>14634</td>\n",
              "      <td>16378</td>\n",
              "      <td>16961</td>\n",
              "      <td>19669</td>\n",
              "      <td>3000</td>\n",
              "      <td>2000</td>\n",
              "      <td>2000</td>\n",
              "      <td>1000</td>\n",
              "      <td>3000</td>\n",
              "      <td>1000</td>\n",
              "    </tr>\n",
              "  </tbody>\n",
              "</table>\n",
              "<p>5 rows × 23 columns</p>\n",
              "</div>\n",
              "      <button class=\"colab-df-convert\" onclick=\"convertToInteractive('df-f68909f6-ee71-4805-a4ef-7378b78824f3')\"\n",
              "              title=\"Convert this dataframe to an interactive table.\"\n",
              "              style=\"display:none;\">\n",
              "        \n",
              "  <svg xmlns=\"http://www.w3.org/2000/svg\" height=\"24px\"viewBox=\"0 0 24 24\"\n",
              "       width=\"24px\">\n",
              "    <path d=\"M0 0h24v24H0V0z\" fill=\"none\"/>\n",
              "    <path d=\"M18.56 5.44l.94 2.06.94-2.06 2.06-.94-2.06-.94-.94-2.06-.94 2.06-2.06.94zm-11 1L8.5 8.5l.94-2.06 2.06-.94-2.06-.94L8.5 2.5l-.94 2.06-2.06.94zm10 10l.94 2.06.94-2.06 2.06-.94-2.06-.94-.94-2.06-.94 2.06-2.06.94z\"/><path d=\"M17.41 7.96l-1.37-1.37c-.4-.4-.92-.59-1.43-.59-.52 0-1.04.2-1.43.59L10.3 9.45l-7.72 7.72c-.78.78-.78 2.05 0 2.83L4 21.41c.39.39.9.59 1.41.59.51 0 1.02-.2 1.41-.59l7.78-7.78 2.81-2.81c.8-.78.8-2.07 0-2.86zM5.41 20L4 18.59l7.72-7.72 1.47 1.35L5.41 20z\"/>\n",
              "  </svg>\n",
              "      </button>\n",
              "      \n",
              "  <style>\n",
              "    .colab-df-container {\n",
              "      display:flex;\n",
              "      flex-wrap:wrap;\n",
              "      gap: 12px;\n",
              "    }\n",
              "\n",
              "    .colab-df-convert {\n",
              "      background-color: #E8F0FE;\n",
              "      border: none;\n",
              "      border-radius: 50%;\n",
              "      cursor: pointer;\n",
              "      display: none;\n",
              "      fill: #1967D2;\n",
              "      height: 32px;\n",
              "      padding: 0 0 0 0;\n",
              "      width: 32px;\n",
              "    }\n",
              "\n",
              "    .colab-df-convert:hover {\n",
              "      background-color: #E2EBFA;\n",
              "      box-shadow: 0px 1px 2px rgba(60, 64, 67, 0.3), 0px 1px 3px 1px rgba(60, 64, 67, 0.15);\n",
              "      fill: #174EA6;\n",
              "    }\n",
              "\n",
              "    [theme=dark] .colab-df-convert {\n",
              "      background-color: #3B4455;\n",
              "      fill: #D2E3FC;\n",
              "    }\n",
              "\n",
              "    [theme=dark] .colab-df-convert:hover {\n",
              "      background-color: #434B5C;\n",
              "      box-shadow: 0px 1px 3px 1px rgba(0, 0, 0, 0.15);\n",
              "      filter: drop-shadow(0px 1px 2px rgba(0, 0, 0, 0.3));\n",
              "      fill: #FFFFFF;\n",
              "    }\n",
              "  </style>\n",
              "\n",
              "      <script>\n",
              "        const buttonEl =\n",
              "          document.querySelector('#df-f68909f6-ee71-4805-a4ef-7378b78824f3 button.colab-df-convert');\n",
              "        buttonEl.style.display =\n",
              "          google.colab.kernel.accessAllowed ? 'block' : 'none';\n",
              "\n",
              "        async function convertToInteractive(key) {\n",
              "          const element = document.querySelector('#df-f68909f6-ee71-4805-a4ef-7378b78824f3');\n",
              "          const dataTable =\n",
              "            await google.colab.kernel.invokeFunction('convertToInteractive',\n",
              "                                                     [key], {});\n",
              "          if (!dataTable) return;\n",
              "\n",
              "          const docLinkHtml = 'Like what you see? Visit the ' +\n",
              "            '<a target=\"_blank\" href=https://colab.research.google.com/notebooks/data_table.ipynb>data table notebook</a>'\n",
              "            + ' to learn more about interactive tables.';\n",
              "          element.innerHTML = '';\n",
              "          dataTable['output_type'] = 'display_data';\n",
              "          await google.colab.output.renderOutput(dataTable, element);\n",
              "          const docLink = document.createElement('div');\n",
              "          docLink.innerHTML = docLinkHtml;\n",
              "          element.appendChild(docLink);\n",
              "        }\n",
              "      </script>\n",
              "    </div>\n",
              "  </div>\n",
              "  "
            ],
            "text/plain": [
              "   LIMIT_BAL  SEX  EDUCATION  MARRIAGE  AGE  PAY_1  PAY_2  PAY_3  PAY_4  \\\n",
              "0      80000    1          6         1   41      0      0      0      0   \n",
              "1      50000    1          1         2   35      0      0      0      0   \n",
              "2      80000    2          1         1   42      2      2      2      2   \n",
              "3     160000    2          2         2   27      0      0      0      0   \n",
              "4      30000    1          1         1   30      0      0      0      0   \n",
              "\n",
              "   PAY_5  ...  BILL_AMT3  BILL_AMT4  BILL_AMT5  BILL_AMT6  PAY_AMT1  PAY_AMT2  \\\n",
              "0      0  ...     133017      19164       3272      11766      4351      3520   \n",
              "1      0  ...      18188      18397      18161      18383      1565      7240   \n",
              "2      2  ...      20471      20638      21003      20529      1600      1700   \n",
              "3      0  ...      80240      39835      41150          0      3600      3700   \n",
              "4      0  ...      14634      16378      16961      19669      3000      2000   \n",
              "\n",
              "   PAY_AMT3  PAY_AMT4  PAY_AMT5  PAY_AMT6  \n",
              "0      1000      3272     11766      1740  \n",
              "1       795      1000       673       647  \n",
              "2       800      1000         0      2000  \n",
              "3      1700      2000         0         0  \n",
              "4      2000      1000      3000      1000  \n",
              "\n",
              "[5 rows x 23 columns]"
            ]
          },
          "execution_count": 4,
          "metadata": {},
          "output_type": "execute_result"
        }
      ],
      "source": [
        "# Load test data set\n",
        "credit_test = pd.read_csv('CreditDefault_Xtest.csv')\n",
        "credit_test.head()"
      ]
    },
    {
      "cell_type": "code",
      "execution_count": 5,
      "metadata": {
        "colab": {
          "base_uri": "https://localhost:8080/",
          "height": 299
        },
        "id": "dOrWKfdlK-_z",
        "outputId": "fe17bda6-87e5-45cd-e6ed-f636b040ec02"
      },
      "outputs": [
        {
          "data": {
            "text/html": [
              "\n",
              "  <div id=\"df-e6789373-328c-4bd7-8d67-d01bdc088c8a\">\n",
              "    <div class=\"colab-df-container\">\n",
              "      <div>\n",
              "<style scoped>\n",
              "    .dataframe tbody tr th:only-of-type {\n",
              "        vertical-align: middle;\n",
              "    }\n",
              "\n",
              "    .dataframe tbody tr th {\n",
              "        vertical-align: top;\n",
              "    }\n",
              "\n",
              "    .dataframe thead th {\n",
              "        text-align: right;\n",
              "    }\n",
              "</style>\n",
              "<table border=\"1\" class=\"dataframe\">\n",
              "  <thead>\n",
              "    <tr style=\"text-align: right;\">\n",
              "      <th></th>\n",
              "      <th>LIMIT_BAL</th>\n",
              "      <th>AGE</th>\n",
              "      <th>BILL_AMT1</th>\n",
              "      <th>BILL_AMT2</th>\n",
              "      <th>BILL_AMT3</th>\n",
              "      <th>BILL_AMT4</th>\n",
              "      <th>BILL_AMT5</th>\n",
              "      <th>BILL_AMT6</th>\n",
              "      <th>PAY_AMT1</th>\n",
              "      <th>PAY_AMT2</th>\n",
              "      <th>...</th>\n",
              "      <th>PAY_6_0</th>\n",
              "      <th>PAY_6_1</th>\n",
              "      <th>PAY_6_2</th>\n",
              "      <th>PAY_6_3</th>\n",
              "      <th>PAY_6_4</th>\n",
              "      <th>PAY_6_5</th>\n",
              "      <th>PAY_6_6</th>\n",
              "      <th>PAY_6_7</th>\n",
              "      <th>PAY_6_8</th>\n",
              "      <th>PAY_6_9</th>\n",
              "    </tr>\n",
              "  </thead>\n",
              "  <tbody>\n",
              "    <tr>\n",
              "      <th>0</th>\n",
              "      <td>-0.902690</td>\n",
              "      <td>-1.237370</td>\n",
              "      <td>-0.659401</td>\n",
              "      <td>-0.657623</td>\n",
              "      <td>-0.653395</td>\n",
              "      <td>-0.558590</td>\n",
              "      <td>-0.564919</td>\n",
              "      <td>-0.630095</td>\n",
              "      <td>-0.264370</td>\n",
              "      <td>-0.244519</td>\n",
              "      <td>...</td>\n",
              "      <td>0.0</td>\n",
              "      <td>0.0</td>\n",
              "      <td>0.0</td>\n",
              "      <td>0.0</td>\n",
              "      <td>0.0</td>\n",
              "      <td>0.0</td>\n",
              "      <td>0.0</td>\n",
              "      <td>0.0</td>\n",
              "      <td>0.0</td>\n",
              "      <td>0.0</td>\n",
              "    </tr>\n",
              "    <tr>\n",
              "      <th>1</th>\n",
              "      <td>-0.751263</td>\n",
              "      <td>-1.237370</td>\n",
              "      <td>0.123571</td>\n",
              "      <td>0.174192</td>\n",
              "      <td>0.222944</td>\n",
              "      <td>0.299113</td>\n",
              "      <td>0.397532</td>\n",
              "      <td>0.500862</td>\n",
              "      <td>-0.175510</td>\n",
              "      <td>-0.171175</td>\n",
              "      <td>...</td>\n",
              "      <td>1.0</td>\n",
              "      <td>0.0</td>\n",
              "      <td>0.0</td>\n",
              "      <td>0.0</td>\n",
              "      <td>0.0</td>\n",
              "      <td>0.0</td>\n",
              "      <td>0.0</td>\n",
              "      <td>0.0</td>\n",
              "      <td>0.0</td>\n",
              "      <td>0.0</td>\n",
              "    </tr>\n",
              "    <tr>\n",
              "      <th>2</th>\n",
              "      <td>1.898720</td>\n",
              "      <td>0.816144</td>\n",
              "      <td>-0.573530</td>\n",
              "      <td>-0.484216</td>\n",
              "      <td>-0.572498</td>\n",
              "      <td>-0.613365</td>\n",
              "      <td>-0.597173</td>\n",
              "      <td>-0.540866</td>\n",
              "      <td>0.526037</td>\n",
              "      <td>0.097548</td>\n",
              "      <td>...</td>\n",
              "      <td>0.0</td>\n",
              "      <td>0.0</td>\n",
              "      <td>0.0</td>\n",
              "      <td>0.0</td>\n",
              "      <td>0.0</td>\n",
              "      <td>0.0</td>\n",
              "      <td>0.0</td>\n",
              "      <td>0.0</td>\n",
              "      <td>0.0</td>\n",
              "      <td>0.0</td>\n",
              "    </tr>\n",
              "    <tr>\n",
              "      <th>3</th>\n",
              "      <td>-1.054118</td>\n",
              "      <td>1.896941</td>\n",
              "      <td>-0.680080</td>\n",
              "      <td>-0.679090</td>\n",
              "      <td>-0.618263</td>\n",
              "      <td>-0.598931</td>\n",
              "      <td>-0.584702</td>\n",
              "      <td>-0.635727</td>\n",
              "      <td>-0.362190</td>\n",
              "      <td>-0.116218</td>\n",
              "      <td>...</td>\n",
              "      <td>1.0</td>\n",
              "      <td>0.0</td>\n",
              "      <td>0.0</td>\n",
              "      <td>0.0</td>\n",
              "      <td>0.0</td>\n",
              "      <td>0.0</td>\n",
              "      <td>0.0</td>\n",
              "      <td>0.0</td>\n",
              "      <td>0.0</td>\n",
              "      <td>0.0</td>\n",
              "    </tr>\n",
              "    <tr>\n",
              "      <th>4</th>\n",
              "      <td>-0.902690</td>\n",
              "      <td>1.464622</td>\n",
              "      <td>-0.427412</td>\n",
              "      <td>-0.411319</td>\n",
              "      <td>-0.357541</td>\n",
              "      <td>-0.331676</td>\n",
              "      <td>-0.296197</td>\n",
              "      <td>-0.272334</td>\n",
              "      <td>-0.299963</td>\n",
              "      <td>-0.154688</td>\n",
              "      <td>...</td>\n",
              "      <td>1.0</td>\n",
              "      <td>0.0</td>\n",
              "      <td>0.0</td>\n",
              "      <td>0.0</td>\n",
              "      <td>0.0</td>\n",
              "      <td>0.0</td>\n",
              "      <td>0.0</td>\n",
              "      <td>0.0</td>\n",
              "      <td>0.0</td>\n",
              "      <td>0.0</td>\n",
              "    </tr>\n",
              "  </tbody>\n",
              "</table>\n",
              "<p>5 rows × 97 columns</p>\n",
              "</div>\n",
              "      <button class=\"colab-df-convert\" onclick=\"convertToInteractive('df-e6789373-328c-4bd7-8d67-d01bdc088c8a')\"\n",
              "              title=\"Convert this dataframe to an interactive table.\"\n",
              "              style=\"display:none;\">\n",
              "        \n",
              "  <svg xmlns=\"http://www.w3.org/2000/svg\" height=\"24px\"viewBox=\"0 0 24 24\"\n",
              "       width=\"24px\">\n",
              "    <path d=\"M0 0h24v24H0V0z\" fill=\"none\"/>\n",
              "    <path d=\"M18.56 5.44l.94 2.06.94-2.06 2.06-.94-2.06-.94-.94-2.06-.94 2.06-2.06.94zm-11 1L8.5 8.5l.94-2.06 2.06-.94-2.06-.94L8.5 2.5l-.94 2.06-2.06.94zm10 10l.94 2.06.94-2.06 2.06-.94-2.06-.94-.94-2.06-.94 2.06-2.06.94z\"/><path d=\"M17.41 7.96l-1.37-1.37c-.4-.4-.92-.59-1.43-.59-.52 0-1.04.2-1.43.59L10.3 9.45l-7.72 7.72c-.78.78-.78 2.05 0 2.83L4 21.41c.39.39.9.59 1.41.59.51 0 1.02-.2 1.41-.59l7.78-7.78 2.81-2.81c.8-.78.8-2.07 0-2.86zM5.41 20L4 18.59l7.72-7.72 1.47 1.35L5.41 20z\"/>\n",
              "  </svg>\n",
              "      </button>\n",
              "      \n",
              "  <style>\n",
              "    .colab-df-container {\n",
              "      display:flex;\n",
              "      flex-wrap:wrap;\n",
              "      gap: 12px;\n",
              "    }\n",
              "\n",
              "    .colab-df-convert {\n",
              "      background-color: #E8F0FE;\n",
              "      border: none;\n",
              "      border-radius: 50%;\n",
              "      cursor: pointer;\n",
              "      display: none;\n",
              "      fill: #1967D2;\n",
              "      height: 32px;\n",
              "      padding: 0 0 0 0;\n",
              "      width: 32px;\n",
              "    }\n",
              "\n",
              "    .colab-df-convert:hover {\n",
              "      background-color: #E2EBFA;\n",
              "      box-shadow: 0px 1px 2px rgba(60, 64, 67, 0.3), 0px 1px 3px 1px rgba(60, 64, 67, 0.15);\n",
              "      fill: #174EA6;\n",
              "    }\n",
              "\n",
              "    [theme=dark] .colab-df-convert {\n",
              "      background-color: #3B4455;\n",
              "      fill: #D2E3FC;\n",
              "    }\n",
              "\n",
              "    [theme=dark] .colab-df-convert:hover {\n",
              "      background-color: #434B5C;\n",
              "      box-shadow: 0px 1px 3px 1px rgba(0, 0, 0, 0.15);\n",
              "      filter: drop-shadow(0px 1px 2px rgba(0, 0, 0, 0.3));\n",
              "      fill: #FFFFFF;\n",
              "    }\n",
              "  </style>\n",
              "\n",
              "      <script>\n",
              "        const buttonEl =\n",
              "          document.querySelector('#df-e6789373-328c-4bd7-8d67-d01bdc088c8a button.colab-df-convert');\n",
              "        buttonEl.style.display =\n",
              "          google.colab.kernel.accessAllowed ? 'block' : 'none';\n",
              "\n",
              "        async function convertToInteractive(key) {\n",
              "          const element = document.querySelector('#df-e6789373-328c-4bd7-8d67-d01bdc088c8a');\n",
              "          const dataTable =\n",
              "            await google.colab.kernel.invokeFunction('convertToInteractive',\n",
              "                                                     [key], {});\n",
              "          if (!dataTable) return;\n",
              "\n",
              "          const docLinkHtml = 'Like what you see? Visit the ' +\n",
              "            '<a target=\"_blank\" href=https://colab.research.google.com/notebooks/data_table.ipynb>data table notebook</a>'\n",
              "            + ' to learn more about interactive tables.';\n",
              "          element.innerHTML = '';\n",
              "          dataTable['output_type'] = 'display_data';\n",
              "          await google.colab.output.renderOutput(dataTable, element);\n",
              "          const docLink = document.createElement('div');\n",
              "          docLink.innerHTML = docLinkHtml;\n",
              "          element.appendChild(docLink);\n",
              "        }\n",
              "      </script>\n",
              "    </div>\n",
              "  </div>\n",
              "  "
            ],
            "text/plain": [
              "   LIMIT_BAL       AGE  BILL_AMT1  BILL_AMT2  BILL_AMT3  BILL_AMT4  BILL_AMT5  \\\n",
              "0  -0.902690 -1.237370  -0.659401  -0.657623  -0.653395  -0.558590  -0.564919   \n",
              "1  -0.751263 -1.237370   0.123571   0.174192   0.222944   0.299113   0.397532   \n",
              "2   1.898720  0.816144  -0.573530  -0.484216  -0.572498  -0.613365  -0.597173   \n",
              "3  -1.054118  1.896941  -0.680080  -0.679090  -0.618263  -0.598931  -0.584702   \n",
              "4  -0.902690  1.464622  -0.427412  -0.411319  -0.357541  -0.331676  -0.296197   \n",
              "\n",
              "   BILL_AMT6  PAY_AMT1  PAY_AMT2  ...  PAY_6_0  PAY_6_1  PAY_6_2  PAY_6_3  \\\n",
              "0  -0.630095 -0.264370 -0.244519  ...      0.0      0.0      0.0      0.0   \n",
              "1   0.500862 -0.175510 -0.171175  ...      1.0      0.0      0.0      0.0   \n",
              "2  -0.540866  0.526037  0.097548  ...      0.0      0.0      0.0      0.0   \n",
              "3  -0.635727 -0.362190 -0.116218  ...      1.0      0.0      0.0      0.0   \n",
              "4  -0.272334 -0.299963 -0.154688  ...      1.0      0.0      0.0      0.0   \n",
              "\n",
              "   PAY_6_4  PAY_6_5  PAY_6_6  PAY_6_7  PAY_6_8  PAY_6_9  \n",
              "0      0.0      0.0      0.0      0.0      0.0      0.0  \n",
              "1      0.0      0.0      0.0      0.0      0.0      0.0  \n",
              "2      0.0      0.0      0.0      0.0      0.0      0.0  \n",
              "3      0.0      0.0      0.0      0.0      0.0      0.0  \n",
              "4      0.0      0.0      0.0      0.0      0.0      0.0  \n",
              "\n",
              "[5 rows x 97 columns]"
            ]
          },
          "execution_count": 5,
          "metadata": {},
          "output_type": "execute_result"
        }
      ],
      "source": [
        "#standardization for training set\n",
        "from sklearn.preprocessing import StandardScaler\n",
        "from sklearn.preprocessing import OneHotEncoder\n",
        "sc = StandardScaler()\n",
        "cat_col = ['SEX', 'EDUCATION', 'MARRIAGE', 'PAY_1', 'PAY_2', 'PAY_3', 'PAY_4', 'PAY_5', 'PAY_6']\n",
        "target_x = credit_X_train.drop(cat_col, axis = 1)\n",
        "X_numeric = pd.DataFrame(sc.fit_transform(target_x),columns = target_x.columns)\n",
        "\n",
        "# Creating labels of the exhaustive list of values for each column\n",
        "sex_labels = [1,2]\n",
        "education_labels = [1,2,3,4,5,6]\n",
        "marriage_labels = [1,2,3]\n",
        "pay1_labels = [-2,-1,0,1,2,3,4,5,6,7,8,9]\n",
        "pay2_labels = [-2,-1,0,1,2,3,4,5,6,7,8,9]\n",
        "pay3_labels = [-2,-1,0,1,2,3,4,5,6,7,8,9]\n",
        "pay4_labels = [-2,-1,0,1,2,3,4,5,6,7,8,9]\n",
        "pay5_labels = [-2,-1,0,1,2,3,4,5,6,7,8,9]\n",
        "pay6_labels = [-2,-1,0,1,2,3,4,5,6,7,8,9]\n",
        "\n",
        "#one hot encoding for training set\n",
        "ohe = OneHotEncoder(categories=[sex_labels, education_labels, marriage_labels, pay1_labels, pay2_labels, pay3_labels, pay4_labels, pay5_labels, pay6_labels])\n",
        "cat_train = credit_X_train[cat_col]\n",
        "encoded_train_X = ohe.fit_transform(cat_train).toarray()\n",
        "X_cat = pd.DataFrame(encoded_train_X, columns = ohe.get_feature_names_out(cat_train.columns))\n",
        "X = pd.concat([X_numeric, X_cat], axis = 1)\n",
        "X.head()"
      ]
    },
    {
      "cell_type": "code",
      "execution_count": 6,
      "metadata": {
        "colab": {
          "base_uri": "https://localhost:8080/",
          "height": 299
        },
        "id": "ebMhaq0odRhj",
        "outputId": "dd44cfaf-6173-4ac6-ed8e-c997445a1d0c"
      },
      "outputs": [
        {
          "data": {
            "text/html": [
              "\n",
              "  <div id=\"df-b66fcaea-c151-4ed4-9df6-8011febcb078\">\n",
              "    <div class=\"colab-df-container\">\n",
              "      <div>\n",
              "<style scoped>\n",
              "    .dataframe tbody tr th:only-of-type {\n",
              "        vertical-align: middle;\n",
              "    }\n",
              "\n",
              "    .dataframe tbody tr th {\n",
              "        vertical-align: top;\n",
              "    }\n",
              "\n",
              "    .dataframe thead th {\n",
              "        text-align: right;\n",
              "    }\n",
              "</style>\n",
              "<table border=\"1\" class=\"dataframe\">\n",
              "  <thead>\n",
              "    <tr style=\"text-align: right;\">\n",
              "      <th></th>\n",
              "      <th>LIMIT_BAL</th>\n",
              "      <th>AGE</th>\n",
              "      <th>BILL_AMT1</th>\n",
              "      <th>BILL_AMT2</th>\n",
              "      <th>BILL_AMT3</th>\n",
              "      <th>BILL_AMT4</th>\n",
              "      <th>BILL_AMT5</th>\n",
              "      <th>BILL_AMT6</th>\n",
              "      <th>PAY_AMT1</th>\n",
              "      <th>PAY_AMT2</th>\n",
              "      <th>...</th>\n",
              "      <th>PAY_6_0</th>\n",
              "      <th>PAY_6_1</th>\n",
              "      <th>PAY_6_2</th>\n",
              "      <th>PAY_6_3</th>\n",
              "      <th>PAY_6_4</th>\n",
              "      <th>PAY_6_5</th>\n",
              "      <th>PAY_6_6</th>\n",
              "      <th>PAY_6_7</th>\n",
              "      <th>PAY_6_8</th>\n",
              "      <th>PAY_6_9</th>\n",
              "    </tr>\n",
              "  </thead>\n",
              "  <tbody>\n",
              "    <tr>\n",
              "      <th>0</th>\n",
              "      <td>-0.675549</td>\n",
              "      <td>0.599985</td>\n",
              "      <td>1.497990</td>\n",
              "      <td>1.410763</td>\n",
              "      <td>1.195271</td>\n",
              "      <td>-0.372768</td>\n",
              "      <td>-0.593344</td>\n",
              "      <td>-0.448016</td>\n",
              "      <td>-0.091441</td>\n",
              "      <td>-0.144467</td>\n",
              "      <td>...</td>\n",
              "      <td>0.0</td>\n",
              "      <td>0.0</td>\n",
              "      <td>0.0</td>\n",
              "      <td>0.0</td>\n",
              "      <td>0.0</td>\n",
              "      <td>0.0</td>\n",
              "      <td>0.0</td>\n",
              "      <td>0.0</td>\n",
              "      <td>0.0</td>\n",
              "      <td>0.0</td>\n",
              "    </tr>\n",
              "    <tr>\n",
              "      <th>1</th>\n",
              "      <td>-0.902690</td>\n",
              "      <td>-0.048493</td>\n",
              "      <td>-0.045199</td>\n",
              "      <td>-0.417683</td>\n",
              "      <td>-0.419705</td>\n",
              "      <td>-0.384077</td>\n",
              "      <td>-0.360674</td>\n",
              "      <td>-0.342450</td>\n",
              "      <td>-0.264805</td>\n",
              "      <td>0.046597</td>\n",
              "      <td>...</td>\n",
              "      <td>1.0</td>\n",
              "      <td>0.0</td>\n",
              "      <td>0.0</td>\n",
              "      <td>0.0</td>\n",
              "      <td>0.0</td>\n",
              "      <td>0.0</td>\n",
              "      <td>0.0</td>\n",
              "      <td>0.0</td>\n",
              "      <td>0.0</td>\n",
              "      <td>0.0</td>\n",
              "    </tr>\n",
              "    <tr>\n",
              "      <th>2</th>\n",
              "      <td>-0.675549</td>\n",
              "      <td>0.708064</td>\n",
              "      <td>-0.438330</td>\n",
              "      <td>-0.414473</td>\n",
              "      <td>-0.387596</td>\n",
              "      <td>-0.351035</td>\n",
              "      <td>-0.316262</td>\n",
              "      <td>-0.308213</td>\n",
              "      <td>-0.262627</td>\n",
              "      <td>-0.237945</td>\n",
              "      <td>...</td>\n",
              "      <td>0.0</td>\n",
              "      <td>0.0</td>\n",
              "      <td>1.0</td>\n",
              "      <td>0.0</td>\n",
              "      <td>0.0</td>\n",
              "      <td>0.0</td>\n",
              "      <td>0.0</td>\n",
              "      <td>0.0</td>\n",
              "      <td>0.0</td>\n",
              "      <td>0.0</td>\n",
              "    </tr>\n",
              "    <tr>\n",
              "      <th>3</th>\n",
              "      <td>-0.069838</td>\n",
              "      <td>-0.913131</td>\n",
              "      <td>0.643418</td>\n",
              "      <td>0.394180</td>\n",
              "      <td>0.453006</td>\n",
              "      <td>-0.067989</td>\n",
              "      <td>-0.001425</td>\n",
              "      <td>-0.635727</td>\n",
              "      <td>-0.138173</td>\n",
              "      <td>-0.135222</td>\n",
              "      <td>...</td>\n",
              "      <td>1.0</td>\n",
              "      <td>0.0</td>\n",
              "      <td>0.0</td>\n",
              "      <td>0.0</td>\n",
              "      <td>0.0</td>\n",
              "      <td>0.0</td>\n",
              "      <td>0.0</td>\n",
              "      <td>0.0</td>\n",
              "      <td>0.0</td>\n",
              "      <td>0.0</td>\n",
              "    </tr>\n",
              "    <tr>\n",
              "      <th>4</th>\n",
              "      <td>-1.054118</td>\n",
              "      <td>-0.588892</td>\n",
              "      <td>-0.548221</td>\n",
              "      <td>-0.503539</td>\n",
              "      <td>-0.469689</td>\n",
              "      <td>-0.413846</td>\n",
              "      <td>-0.379426</td>\n",
              "      <td>-0.321934</td>\n",
              "      <td>-0.175510</td>\n",
              "      <td>-0.222536</td>\n",
              "      <td>...</td>\n",
              "      <td>1.0</td>\n",
              "      <td>0.0</td>\n",
              "      <td>0.0</td>\n",
              "      <td>0.0</td>\n",
              "      <td>0.0</td>\n",
              "      <td>0.0</td>\n",
              "      <td>0.0</td>\n",
              "      <td>0.0</td>\n",
              "      <td>0.0</td>\n",
              "      <td>0.0</td>\n",
              "    </tr>\n",
              "  </tbody>\n",
              "</table>\n",
              "<p>5 rows × 97 columns</p>\n",
              "</div>\n",
              "      <button class=\"colab-df-convert\" onclick=\"convertToInteractive('df-b66fcaea-c151-4ed4-9df6-8011febcb078')\"\n",
              "              title=\"Convert this dataframe to an interactive table.\"\n",
              "              style=\"display:none;\">\n",
              "        \n",
              "  <svg xmlns=\"http://www.w3.org/2000/svg\" height=\"24px\"viewBox=\"0 0 24 24\"\n",
              "       width=\"24px\">\n",
              "    <path d=\"M0 0h24v24H0V0z\" fill=\"none\"/>\n",
              "    <path d=\"M18.56 5.44l.94 2.06.94-2.06 2.06-.94-2.06-.94-.94-2.06-.94 2.06-2.06.94zm-11 1L8.5 8.5l.94-2.06 2.06-.94-2.06-.94L8.5 2.5l-.94 2.06-2.06.94zm10 10l.94 2.06.94-2.06 2.06-.94-2.06-.94-.94-2.06-.94 2.06-2.06.94z\"/><path d=\"M17.41 7.96l-1.37-1.37c-.4-.4-.92-.59-1.43-.59-.52 0-1.04.2-1.43.59L10.3 9.45l-7.72 7.72c-.78.78-.78 2.05 0 2.83L4 21.41c.39.39.9.59 1.41.59.51 0 1.02-.2 1.41-.59l7.78-7.78 2.81-2.81c.8-.78.8-2.07 0-2.86zM5.41 20L4 18.59l7.72-7.72 1.47 1.35L5.41 20z\"/>\n",
              "  </svg>\n",
              "      </button>\n",
              "      \n",
              "  <style>\n",
              "    .colab-df-container {\n",
              "      display:flex;\n",
              "      flex-wrap:wrap;\n",
              "      gap: 12px;\n",
              "    }\n",
              "\n",
              "    .colab-df-convert {\n",
              "      background-color: #E8F0FE;\n",
              "      border: none;\n",
              "      border-radius: 50%;\n",
              "      cursor: pointer;\n",
              "      display: none;\n",
              "      fill: #1967D2;\n",
              "      height: 32px;\n",
              "      padding: 0 0 0 0;\n",
              "      width: 32px;\n",
              "    }\n",
              "\n",
              "    .colab-df-convert:hover {\n",
              "      background-color: #E2EBFA;\n",
              "      box-shadow: 0px 1px 2px rgba(60, 64, 67, 0.3), 0px 1px 3px 1px rgba(60, 64, 67, 0.15);\n",
              "      fill: #174EA6;\n",
              "    }\n",
              "\n",
              "    [theme=dark] .colab-df-convert {\n",
              "      background-color: #3B4455;\n",
              "      fill: #D2E3FC;\n",
              "    }\n",
              "\n",
              "    [theme=dark] .colab-df-convert:hover {\n",
              "      background-color: #434B5C;\n",
              "      box-shadow: 0px 1px 3px 1px rgba(0, 0, 0, 0.15);\n",
              "      filter: drop-shadow(0px 1px 2px rgba(0, 0, 0, 0.3));\n",
              "      fill: #FFFFFF;\n",
              "    }\n",
              "  </style>\n",
              "\n",
              "      <script>\n",
              "        const buttonEl =\n",
              "          document.querySelector('#df-b66fcaea-c151-4ed4-9df6-8011febcb078 button.colab-df-convert');\n",
              "        buttonEl.style.display =\n",
              "          google.colab.kernel.accessAllowed ? 'block' : 'none';\n",
              "\n",
              "        async function convertToInteractive(key) {\n",
              "          const element = document.querySelector('#df-b66fcaea-c151-4ed4-9df6-8011febcb078');\n",
              "          const dataTable =\n",
              "            await google.colab.kernel.invokeFunction('convertToInteractive',\n",
              "                                                     [key], {});\n",
              "          if (!dataTable) return;\n",
              "\n",
              "          const docLinkHtml = 'Like what you see? Visit the ' +\n",
              "            '<a target=\"_blank\" href=https://colab.research.google.com/notebooks/data_table.ipynb>data table notebook</a>'\n",
              "            + ' to learn more about interactive tables.';\n",
              "          element.innerHTML = '';\n",
              "          dataTable['output_type'] = 'display_data';\n",
              "          await google.colab.output.renderOutput(dataTable, element);\n",
              "          const docLink = document.createElement('div');\n",
              "          docLink.innerHTML = docLinkHtml;\n",
              "          element.appendChild(docLink);\n",
              "        }\n",
              "      </script>\n",
              "    </div>\n",
              "  </div>\n",
              "  "
            ],
            "text/plain": [
              "   LIMIT_BAL       AGE  BILL_AMT1  BILL_AMT2  BILL_AMT3  BILL_AMT4  BILL_AMT5  \\\n",
              "0  -0.675549  0.599985   1.497990   1.410763   1.195271  -0.372768  -0.593344   \n",
              "1  -0.902690 -0.048493  -0.045199  -0.417683  -0.419705  -0.384077  -0.360674   \n",
              "2  -0.675549  0.708064  -0.438330  -0.414473  -0.387596  -0.351035  -0.316262   \n",
              "3  -0.069838 -0.913131   0.643418   0.394180   0.453006  -0.067989  -0.001425   \n",
              "4  -1.054118 -0.588892  -0.548221  -0.503539  -0.469689  -0.413846  -0.379426   \n",
              "\n",
              "   BILL_AMT6  PAY_AMT1  PAY_AMT2  ...  PAY_6_0  PAY_6_1  PAY_6_2  PAY_6_3  \\\n",
              "0  -0.448016 -0.091441 -0.144467  ...      0.0      0.0      0.0      0.0   \n",
              "1  -0.342450 -0.264805  0.046597  ...      1.0      0.0      0.0      0.0   \n",
              "2  -0.308213 -0.262627 -0.237945  ...      0.0      0.0      1.0      0.0   \n",
              "3  -0.635727 -0.138173 -0.135222  ...      1.0      0.0      0.0      0.0   \n",
              "4  -0.321934 -0.175510 -0.222536  ...      1.0      0.0      0.0      0.0   \n",
              "\n",
              "   PAY_6_4  PAY_6_5  PAY_6_6  PAY_6_7  PAY_6_8  PAY_6_9  \n",
              "0      0.0      0.0      0.0      0.0      0.0      0.0  \n",
              "1      0.0      0.0      0.0      0.0      0.0      0.0  \n",
              "2      0.0      0.0      0.0      0.0      0.0      0.0  \n",
              "3      0.0      0.0      0.0      0.0      0.0      0.0  \n",
              "4      0.0      0.0      0.0      0.0      0.0      0.0  \n",
              "\n",
              "[5 rows x 97 columns]"
            ]
          },
          "execution_count": 6,
          "metadata": {},
          "output_type": "execute_result"
        }
      ],
      "source": [
        "#standardization and one-hot encoding for testing set\n",
        "target_x2 = credit_test.drop(cat_col, axis = 1)\n",
        "X_test_numeric = pd.DataFrame(sc.transform(target_x2), columns = target_x2.columns)\n",
        "\n",
        "cat_test = credit_test[cat_col]\n",
        "encoded_test = ohe.transform(cat_test).toarray()\n",
        "X_test_cat = pd.DataFrame(encoded_test, columns = ohe.get_feature_names_out(cat_test.columns))\n",
        "X_test = pd.concat([X_test_numeric, X_test_cat], axis = 1)\n",
        "X_test.head()"
      ]
    },
    {
      "cell_type": "markdown",
      "metadata": {
        "id": "D_e0eeNz55Cg"
      },
      "source": [
        "**Splitting training data into training and validation set (70:30 ratio) (the code has been provided)**"
      ]
    },
    {
      "cell_type": "code",
      "execution_count": 7,
      "metadata": {
        "id": "dveoLnWM7mt4"
      },
      "outputs": [],
      "source": [
        "from sklearn.model_selection import train_test_split\n",
        "X_train, X_val, y_train, y_val = train_test_split(X, y, test_size=0.3, random_state=42)"
      ]
    },
    {
      "cell_type": "markdown",
      "metadata": {
        "id": "-BteEz3T83c7"
      },
      "source": [
        "Print the shape of X_train, y_train, X_val"
      ]
    },
    {
      "cell_type": "code",
      "execution_count": 8,
      "metadata": {
        "colab": {
          "base_uri": "https://localhost:8080/"
        },
        "id": "IAmEc8hJ86sF",
        "outputId": "73aeae70-9e61-4a7f-a648-4d4d4b49c068"
      },
      "outputs": [
        {
          "data": {
            "text/plain": [
              "((2789, 97), (1196, 97), (2789,))"
            ]
          },
          "execution_count": 8,
          "metadata": {},
          "output_type": "execute_result"
        }
      ],
      "source": [
        "X_train.shape, X_val.shape, y_train.shape"
      ]
    },
    {
      "cell_type": "markdown",
      "metadata": {
        "id": "6D2n5k-L-BrM"
      },
      "source": [
        "## Logistic Regression\n",
        "\n",
        "As previously mentioned, the scikit-learn classification API makes it easy to train a classifier. \n",
        "\n",
        "\n",
        "Use LogisticRegression from sklearn.linear_model to make a logistic regression classifier."
      ]
    },
    {
      "cell_type": "code",
      "execution_count": 9,
      "metadata": {
        "id": "NNJEfTx8-Mqj"
      },
      "outputs": [],
      "source": [
        "from sklearn.linear_model import LogisticRegression"
      ]
    },
    {
      "cell_type": "code",
      "execution_count": 10,
      "metadata": {
        "colab": {
          "base_uri": "https://localhost:8080/"
        },
        "id": "236FjZN8-S8x",
        "outputId": "ec73ce32-3c35-4370-ae70-ac30a0b67140"
      },
      "outputs": [
        {
          "name": "stderr",
          "output_type": "stream",
          "text": [
            "/usr/local/lib/python3.7/dist-packages/sklearn/linear_model/_logistic.py:818: ConvergenceWarning: lbfgs failed to converge (status=1):\n",
            "STOP: TOTAL NO. of ITERATIONS REACHED LIMIT.\n",
            "\n",
            "Increase the number of iterations (max_iter) or scale the data as shown in:\n",
            "    https://scikit-learn.org/stable/modules/preprocessing.html\n",
            "Please also refer to the documentation for alternative solver options:\n",
            "    https://scikit-learn.org/stable/modules/linear_model.html#logistic-regression\n",
            "  extra_warning_msg=_LOGISTIC_SOLVER_CONVERGENCE_MSG,\n"
          ]
        },
        {
          "data": {
            "text/plain": [
              "LogisticRegression()"
            ]
          },
          "execution_count": 10,
          "metadata": {},
          "output_type": "execute_result"
        }
      ],
      "source": [
        "# First, initialize the classifier with default parameters\n",
        "# then fit the classifier on training data and labels\n",
        "lr = LogisticRegression()\n",
        "lr.fit(X_train, y_train)"
      ]
    },
    {
      "cell_type": "code",
      "execution_count": 11,
      "metadata": {
        "colab": {
          "base_uri": "https://localhost:8080/"
        },
        "id": "RpE2jWXEFgW1",
        "outputId": "79bf977e-ceb7-4ecd-fcaa-33a0c8a21410"
      },
      "outputs": [
        {
          "data": {
            "text/plain": [
              "LogisticRegression(max_iter=200)"
            ]
          },
          "execution_count": 11,
          "metadata": {},
          "output_type": "execute_result"
        }
      ],
      "source": [
        "# If there is any ConvergenceWarning, increase the number of iterations. (Let max_iter = 200)\n",
        "lr = LogisticRegression(max_iter = 200)\n",
        "lr.fit(X_train, y_train)"
      ]
    },
    {
      "cell_type": "code",
      "execution_count": 12,
      "metadata": {
        "id": "UKR98kFw_lQO"
      },
      "outputs": [],
      "source": [
        "# predict the output for validation dataset\n",
        "y_preds = lr.predict(X_val)"
      ]
    },
    {
      "cell_type": "markdown",
      "metadata": {
        "id": "gAaWBNcsAlF2"
      },
      "source": [
        "Implement my_precision(), my_recall(), my_accuracy() by yourselves"
      ]
    },
    {
      "cell_type": "code",
      "execution_count": 13,
      "metadata": {
        "id": "SC-_P6AoAuQJ"
      },
      "outputs": [],
      "source": [
        "def my_precision(y, y_preds): #TP/(TP+FP)\n",
        "    tp = 0\n",
        "    fp = 0\n",
        "    for i in range(len(y)):\n",
        "        if y[i] == 1 and y_preds[i] == 1:\n",
        "            tp += 1\n",
        "        elif y[i] == 0 and y_preds[i] == 1:\n",
        "            fp += 1\n",
        "    return tp / (tp + fp)\n",
        "\n",
        "def my_recall(y, y_preds): #TP/(TP+FN)\n",
        "    tp = 0\n",
        "    fn = 0\n",
        "    for i in range(len(y)):\n",
        "        if y[i] == 1 and y_preds[i] == 1:\n",
        "            tp += 1\n",
        "        elif y[i] == 1 and y_preds[i] == 0:\n",
        "            fn += 1\n",
        "    return tp / (tp + fn)\n",
        "\n",
        "\n",
        "def my_accuracy(y, y_preds): #(TP+TN)/(TP+FP+FN+TN)\n",
        "    tp = 0\n",
        "    tn = 0\n",
        "    fp = 0\n",
        "    fn = 0\n",
        "    for i in range(len(y)):\n",
        "        if y[i] == 1 and y_preds[i] == 1:\n",
        "            tp += 1\n",
        "        elif y[i] == 0 and y_preds[i] == 0:\n",
        "            tn += 1\n",
        "        elif y[i] == 0 and y_preds[i] == 1:\n",
        "            fp += 1\n",
        "        else:\n",
        "            fn += 1\n",
        "    return (tp + tn) / (tp + fp + fn + tn)"
      ]
    },
    {
      "cell_type": "markdown",
      "metadata": {
        "id": "6x6-GqJ5Mp06"
      },
      "source": [
        "Use your above functions to compute precision, recall, and accuracy of your model on validation set:"
      ]
    },
    {
      "cell_type": "code",
      "execution_count": 14,
      "metadata": {
        "colab": {
          "base_uri": "https://localhost:8080/"
        },
        "id": "MsQSYMcaMl1S",
        "outputId": "8665ac33-3f38-43b0-d4bd-7455e6cceb1c"
      },
      "outputs": [
        {
          "data": {
            "text/plain": [
              "0.6610169491525424"
            ]
          },
          "execution_count": 14,
          "metadata": {},
          "output_type": "execute_result"
        }
      ],
      "source": [
        "\n",
        "my_precision(y_val.values, y_preds)"
      ]
    },
    {
      "cell_type": "code",
      "execution_count": 15,
      "metadata": {
        "colab": {
          "base_uri": "https://localhost:8080/"
        },
        "id": "SCsDqDQDdRhk",
        "outputId": "ddf7d2d6-2c6b-4024-d48e-80753261a74a"
      },
      "outputs": [
        {
          "data": {
            "text/plain": [
              "0.43333333333333335"
            ]
          },
          "execution_count": 15,
          "metadata": {},
          "output_type": "execute_result"
        }
      ],
      "source": [
        "my_recall(y_val.values, y_preds)"
      ]
    },
    {
      "cell_type": "code",
      "execution_count": 16,
      "metadata": {
        "colab": {
          "base_uri": "https://localhost:8080/"
        },
        "id": "LIK_7w_xdRhk",
        "outputId": "30c5fbb6-d5fa-40f6-bffb-b89578bdec10"
      },
      "outputs": [
        {
          "data": {
            "text/plain": [
              "0.8219063545150501"
            ]
          },
          "execution_count": 16,
          "metadata": {},
          "output_type": "execute_result"
        }
      ],
      "source": [
        "my_accuracy(y_val.values, y_preds)"
      ]
    },
    {
      "attachments": {},
      "cell_type": "markdown",
      "metadata": {
        "id": "RKXWHHJ1OsMZ"
      },
      "source": [
        "Accuracy - 82.19%\n",
        "Precision - 66.10%\n",
        "Recall - 43.33%\n",
        "\n",
        "\n",
        "* *Precision*: good measure to use when the costs of False Positive is high. For example, a spam detection, where you should not lose important emails by detecting it as a spam. \n",
        "* *Recall*: good measure to use when the costs of False Negative is high. For example, a sick patient detection, where it is crucial to not detect a sick patient as a non-sick\n",
        "* *Accuracy*: good measure to use when the dataset is balanced. Accuracy may not be a good measure if the dataset is not balanced (both negative and positive classes have different number of data instances). Thus, using accuracy in such scenarios can result in misleading interpretation of results. In case of imbalanced datasets, it is better to use precision or recall. \n",
        "\n",
        "In this case, the dataset is imbalanced. Recall is more suitable because the bank cares about the cases of default the most, and the model's performance is best evaluated with the cases of predicted default in terms of the percentage of predicted default over all actual defaults. The bank cares the most about false negative cases where the default behavior takes place without being predicted."
      ]
    },
    {
      "attachments": {},
      "cell_type": "markdown",
      "metadata": {
        "id": "6Bflc8MVP3K7"
      },
      "source": [
        "### ROC curve\n",
        "\n",
        "Used roc_Curve from sklearn.metrics and used matplotlib.pyplot to plot the ROC curve. Used validation set to make predictions and to draw ROC curve."
      ]
    },
    {
      "cell_type": "code",
      "execution_count": 17,
      "metadata": {
        "colab": {
          "base_uri": "https://localhost:8080/",
          "height": 295
        },
        "id": "51E1Wc2QQDqt",
        "outputId": "35c60b74-0204-461c-ad98-a2d0ee5b9592"
      },
      "outputs": [
        {
          "data": {
            "image/png": "[encoded data removed]",
            "text/plain": [
              "<Figure size 432x288 with 1 Axes>"
            ]
          },
          "metadata": {
            "needs_background": "light"
          },
          "output_type": "display_data"
        }
      ],
      "source": [
        "# Plot the ROC curve by giving appropriate names for title and axes. \n",
        "from sklearn.metrics import roc_curve\n",
        "import sklearn.metrics as metrics\n",
        "probs = lr.predict_proba(X_val)\n",
        "preds = probs[:,1]\n",
        "fpr, tpr, thresholds = roc_curve(y_val, preds)\n",
        "roc_auc = metrics.auc(fpr, tpr)\n",
        "\n",
        "import matplotlib.pyplot as plt\n",
        "plt.plot(fpr, tpr, label='ROC curve (area = %0.3f)' % roc_auc)\n",
        "plt.plot([0, 1], [0, 1], 'k--')  # random predictions curve\n",
        "plt.xlim([0.0, 1.0])\n",
        "plt.ylim([0.0, 1.05])\n",
        "plt.xlabel('False Positive Rate')\n",
        "plt.ylabel('True Positive Rate')\n",
        "plt.title('Receiver Operating Characteristic')\n",
        "plt.legend(loc=\"lower right\")\n",
        "plt.show()"
      ]
    },
    {
      "cell_type": "markdown",
      "metadata": {
        "id": "E9X_maKDT63P"
      },
      "source": [
        "## Hyperparameters\n",
        "\n",
        "\"Model tuning\" refers to model adjustments to better fit the data, which is separate from \"fitting\" or \"training\" the model. \n"
      ]
    },
    {
      "cell_type": "markdown",
      "metadata": {
        "id": "OQMd79-sUEUr"
      },
      "source": [
        "Build a model with hyperparameter 'C' set to 0.1 and penalty set to 'l1'. Make predictions on validation set and compute accuracy, precision and recall. "
      ]
    },
    {
      "cell_type": "code",
      "execution_count": 18,
      "metadata": {
        "colab": {
          "base_uri": "https://localhost:8080/"
        },
        "id": "1n6cx2_KUFYw",
        "outputId": "67fffbf9-ac2a-46b1-d698-2dcaf6d298ac"
      },
      "outputs": [
        {
          "name": "stdout",
          "output_type": "stream",
          "text": [
            "Precision is 68.05%\n",
            "Recall is 42.59%\n",
            "Accuracy is 82.53%\n"
          ]
        }
      ],
      "source": [
        "lr2 = LogisticRegression(C = 0.1, penalty = 'l1', solver='liblinear')\n",
        "lr2.fit(X_train, y_train)\n",
        "y_preds2 = lr2.predict(X_val)\n",
        "print(f'Precision is {round(my_precision(y_val.values, y_preds2)*100,2)}%')\n",
        "print(f'Recall is {round(my_recall(y_val.values, y_preds2)*100,2)}%')\n",
        "print(f'Accuracy is {round(my_accuracy(y_val.values, y_preds2)*100,2)}%')"
      ]
    },
    {
      "cell_type": "markdown",
      "metadata": {
        "id": "kFYJ5hU-U7hL"
      },
      "source": [
        "Build a model with hyperparameter 'C' set to 0.5 and penalty set to 'l1'. Make predictions on validation set and compute accuracy, precision and recall. "
      ]
    },
    {
      "cell_type": "code",
      "execution_count": 19,
      "metadata": {
        "colab": {
          "base_uri": "https://localhost:8080/"
        },
        "id": "3fnH0Pt9U8KT",
        "outputId": "fa631b34-7088-4405-d170-0101a41379a4"
      },
      "outputs": [
        {
          "name": "stdout",
          "output_type": "stream",
          "text": [
            "Precision is 66.86%\n",
            "Recall is 43.33%\n",
            "Accuracy is 82.36%\n"
          ]
        }
      ],
      "source": [
        "lr3 = LogisticRegression(C = 0.5, penalty = 'l1', solver='liblinear')\n",
        "lr3.fit(X_train, y_train)\n",
        "y_preds3 = lr3.predict(X_val)\n",
        "print(f'Precision is {round(my_precision(y_val.values, y_preds3)*100,2)}%')\n",
        "print(f'Recall is {round(my_recall(y_val.values, y_preds3)*100,2)}%')\n",
        "print(f'Accuracy is {round(my_accuracy(y_val.values, y_preds3)*100,2)}%')"
      ]
    },
    {
      "cell_type": "markdown",
      "metadata": {
        "id": "pWQj9WiUVMHT"
      },
      "source": [
        "Build a model with hyperparameter 'C' set to 0.1 and penalty set to 'l2'. Make predictions on validation set and compute accuracy, precision and recall."
      ]
    },
    {
      "cell_type": "code",
      "execution_count": 20,
      "metadata": {
        "colab": {
          "base_uri": "https://localhost:8080/"
        },
        "id": "x6Tvpz7wVPAW",
        "outputId": "d01f0985-434b-4614-f9ce-e9047dce22bb"
      },
      "outputs": [
        {
          "name": "stdout",
          "output_type": "stream",
          "text": [
            "Precision is 66.28%\n",
            "Recall is 42.22%\n",
            "Accuracy is 82.11%\n"
          ]
        }
      ],
      "source": [
        "lr4 = LogisticRegression(C = 0.1, penalty = 'l2', max_iter = 200)\n",
        "lr4.fit(X_train, y_train)\n",
        "y_preds4 = lr4.predict(X_val)\n",
        "print(f'Precision is {round(my_precision(y_val.values, y_preds4)*100,2)}%')\n",
        "print(f'Recall is {round(my_recall(y_val.values, y_preds4)*100,2)}%')\n",
        "print(f'Accuracy is {round(my_accuracy(y_val.values, y_preds4)*100,2)}%')"
      ]
    },
    {
      "cell_type": "markdown",
      "metadata": {
        "id": "5ihWSDXiVWta"
      },
      "source": [
        "Build a model with hyperparameter 'C' set to 0.5 and penalty set to 'l2'. Make predictions on validation set and compute accuracy, precision and recall. (Try to use a different solver or increase the number of iterations if there is a ConvergenceWarning)"
      ]
    },
    {
      "cell_type": "code",
      "execution_count": 21,
      "metadata": {
        "colab": {
          "base_uri": "https://localhost:8080/"
        },
        "id": "9ggEfBX4VZdM",
        "outputId": "a0a1ffcb-e787-4baa-e953-ebe82f05adc3"
      },
      "outputs": [
        {
          "name": "stdout",
          "output_type": "stream",
          "text": [
            "Precision is 66.48%\n",
            "Recall is 43.33%\n",
            "Accuracy is 82.27%\n"
          ]
        }
      ],
      "source": [
        "lr5 = LogisticRegression(C = 0.5, penalty = 'l2', max_iter = 1000, solver='saga')\n",
        "lr5.fit(X_train, y_train)\n",
        "y_preds5 = lr5.predict(X_val)\n",
        "print(f'Precision is {round(my_precision(y_val.values, y_preds5)*100,2)}%')\n",
        "print(f'Recall is {round(my_recall(y_val.values, y_preds5)*100,2)}%')\n",
        "print(f'Accuracy is {round(my_accuracy(y_val.values, y_preds5)*100,2)}%')"
      ]
    },
    {
      "cell_type": "markdown",
      "metadata": {
        "id": "bXnNF73CWpYz"
      },
      "source": [
        "Q. Which of the above models is better?<br> \n",
        "Ans- Model lr3 (with hyperparameter 'C' = 0.5 and penalty 'l1') and Model lr5 (with hyperparameter 'C' = 0.5 and penalty 'l2') have the highest recall of 43.33%. Since Model lr3 has greater precision and accuracy as well, we choose lr3 for our model."
      ]
    },
    {
      "attachments": {},
      "cell_type": "markdown",
      "metadata": {
        "id": "dRBjfOnjXFMj"
      },
      "source": [
        "# Test set"
      ]
    },
    {
      "cell_type": "code",
      "execution_count": 29,
      "metadata": {
        "colab": {
          "base_uri": "https://localhost:8080/"
        },
        "id": "vJWNXQvHXKuM",
        "outputId": "9321d1b6-a1d9-4c1b-ce67-42ae11877180"
      },
      "outputs": [
        {
          "name": "stdout",
          "output_type": "stream",
          "text": [
            "[0 0 1 0 0 0 0 0 0 0 0 1 0 0 0 0 0 0 1 0 0 0 1 0 1 0 1 0 0 1 0 0 0 0 1 0 0\n",
            " 0 0 0 0 0 0 0 0 0 0 0 0 0 0 0 0 0 0 1 1 0 0 0 0 0 0 0 0 0 0 0 0 0 0 0 1 0\n",
            " 0 0 0 0 0 0 0 0 0 0 0 0 0 0 0 0 0 0 0 0 0 0 0 0 0 0 0 0 0 0 0 0 0 0 0 0 0\n",
            " 0 0 0 0 1 0 0 0 0 0 0 0 0 0 0 0 0 0 0 0 0 0 0 0 0 1 1 1 0 1 0 1 0 0 1 0 0\n",
            " 0 0 0 0 0 0 0 0 0 0 0 0 0 0 0 0 0 0 0 0 0 0 0 0 0 1 0 0 0 0 0 0 0 0 0 0 0\n",
            " 0 0 0 0 0 0 0 1 1 0 1 0 0 0 0 0 0 1 1 0 0 0 0 0 0 0 0 0 0 0 0 0 0 0 0 0 0\n",
            " 0 0 0 0 0 0 0 0 0 0 0 0 0 0 0 0 0 0 1 0 0 0 0 0 0 0 0 0 0 0 0 0 0 0 0 0 0\n",
            " 0 0 0 0 0 0 1 0 0 0 0 0 0 0 1 1 0 1 0 0 0 1 1 0 0 0 0 1 0 0 0 1 0 0 0 1 0\n",
            " 0 0 0 0 0 0 1 0 0 0 0 0 0 0 0 0 0 0 0 1 1 0 0 0 1 0 0 0 0 0 0 1 0 0 0 0 0\n",
            " 0 0 0 1 0 0 1 0 0 0 0 0 1 0 0 0 0 0 0 0 0 0 0 0 1 1 0 0 0 0 0 0 0 0 0 0 0\n",
            " 0 1 0 1 0 0 0 0 0 0 0 0 0 0 0 0 0 0 1 0 0 1 0 0 1 0 0 0 0 0 1 1 0 0 0 1 0\n",
            " 0 0 0 0 1 1 0 0 0 1 0 0 0 0 0 0 1 0 0 1 0 0 0 0 0 0 0 0 0 0 0 0 0 0 0 0 0\n",
            " 1 0 0 0 0 0 0 1 0 0 0 0 1 0 0 0 1 1 0 0 0 0 0 0 0 0 0 0 0 0 0 0 0 0 0 0 0\n",
            " 1 0 0 0 0 0 1 1 0 0 0 0 1 0 0 0 0 0 0 0 0 0 0 0 0 0 0 0 0 0 0 1 1 1 1 0 0\n",
            " 0 0 0 0 0 0 0 0 0 0 0 0 0 0 0 0 0 0 0 0 0 0 0 0 0 1 1 0 0 0 1 0 0 1 0 0 0\n",
            " 0 0 0 0 0 1 0 0 0 0 1 0 1 0 0 0 0 0 0 0 0 0 0 0 0 0 0 0 0 0 0 0 0 0 0 1 0\n",
            " 0 0 0 0 0 0 0 1 0 0 0 0 1 0 0 0 0 0 0 0 0 0 0 0 0 0 0 0 0 0 0 0 1 0 1 0 0\n",
            " 0 0 0 0 0 0 0 0 0 0 0 1 0 0 0 0 0 0 0 0 0 0 0 0 0 0 0 0 0 0 0 0 0 0 0 0 0\n",
            " 0 0 0 1 0 0 0 0 0 0 0 1 0 0 0 0 0 0 0 0 0 0 1 0 0 0 0 0 0 1 0 0 0 0 0 1 0\n",
            " 0 0 0 0 0 0 0 0 0 0 0 0 0 0 0 0 0 0 0 0 0 0 0 0 0 1 0 0 0 0 0 0 0 1 1 0 0\n",
            " 0 0 0 0 0 0 0 0 0 0 0 0 0 0 0 0 0 0 0 1 0 0 0 0 0 0 0 0 0 0 0 0 0 0 1 0 0\n",
            " 0 1 0 1 0 0 0 0 0 1 0 0 0 0 0 0 0 0 0 0 0 0 0 0 0 0 0 1 0 0 0 0 0 0 0 0 0\n",
            " 0 0 0 0 0 0 0 1 0 1 0 0 1 0 0 0 0 0 0 0 0 0 0 0 0 0 0 0 0 0 0 0 0 0 0 0 0\n",
            " 0 0 0 0 0 0 1 0 0 0 0 0 0 0 1 0 0 0 0 0 1 0 0 1 0 0 0 0 0 0 0 0 0 0 0 0 1\n",
            " 1 0 0 1 0 0 0 0 0 0 1 0 0 0 0 0 0 0 0 1 1 0 0 0 0 0 0 0 0 0 0 0 0 1 0 0 0\n",
            " 0 0 1 0 0 1 0 0 0 0 0 0 0 0 0 0 0 0 0 0 0 0 0 0 0 0 0 1 0 0 1 1 0 1 0 0 0\n",
            " 0 0 1 0 1 0 0 0 0 0 0 0 0 0 0 1 0 0 0 0 1 0 0 0 0 0 0 0 0 0 0 0 1 0 1 0 0\n",
            " 0]\n",
            "   Default prediction\n",
            "0                   0\n",
            "1                   0\n",
            "2                   1\n",
            "3                   0\n",
            "4                   0\n"
          ]
        }
      ],
      "source": [
        "# Construct your final logistic regression using the best hyperparameters obtained above (C and penalty) ###\n",
        "\n",
        "# return the prediction as \"y_pred\"\n",
        "\n",
        "y_pred = lr3.predict(X_test)\n",
        "print(y_pred)\n",
        "\n",
        "# convert y_pred array into a dataframe and print output\n",
        "y_pred_df = pd.DataFrame(y_pred, columns = ['Default prediction'])\n",
        "print(y_pred_df.head())"
      ]
    },
    {
      "attachments": {},
      "cell_type": "markdown",
      "metadata": {
        "id": "3hH63r9qXr0_"
      },
      "source": [
        "# Dataset 2\n",
        "The dataset is the \"Pima Indians Diabetes Dataset\".\n",
        "\n",
        "There are two data files: \"Diabetes_training.csv\" and \"Diabetes_Xtest.csv\"\n",
        "Both files have the following fields, except quality which is not available in \"Diabetes_Xtest.csv\".\n",
        "\n",
        "Features:\n",
        "\n",
        "1 - pregnant:\tNumber of times pregnant <br>\n",
        "2 - glucose:\tPlasma glucose concentration (glucose tolerance test) <br>\n",
        "3 - pressure:\tDiastolic blood pressure (mm Hg) <br>\n",
        "4 - triceps:\tTriceps skin fold thickness (mm) <br>\n",
        "5 - insulin\t2-Hour serum insulin (mu U/ml) <br>\n",
        "6 - mass:\tBody mass index (weight in kg/(height in m)\\^2) <br>\n",
        "7 - pedigree:\tDiabetes pedigree function <br>\n",
        "8 - age:\tAge (years)<br>\n",
        "\n",
        "Target:\n",
        "\n",
        "diabetes: ('neg','pos')\n",
        "\n",
        "Training dataset, \"Diabetes_training.csv\", contains 576 rows and 9 columns. This is the training set containing both of the features and the target.\n",
        "Test dataset, \"Diabetes_Xtest.csv\", contains 192 rows and 8 columns. This is the test set which only contains the features.\n",
        "Prediction task is to determine the test for diabetes. \n"
      ]
    },
    {
      "cell_type": "code",
      "execution_count": 23,
      "metadata": {
        "colab": {
          "base_uri": "https://localhost:8080/",
          "height": 297
        },
        "id": "t7gSdDiIzErK",
        "outputId": "486259fb-c6f0-451d-9473-70e983d41f90"
      },
      "outputs": [
        {
          "data": {
            "text/html": [
              "\n",
              "     <input type=\"file\" id=\"files-6835acc6-bd12-480a-a87f-40bf066fdaad\" name=\"files[]\" multiple disabled\n",
              "        style=\"border:none\" />\n",
              "     <output id=\"result-6835acc6-bd12-480a-a87f-40bf066fdaad\">\n",
              "      Upload widget is only available when the cell has been executed in the\n",
              "      current browser session. Please rerun this cell to enable.\n",
              "      </output>\n",
              "      <script>// Copyright 2017 Google LLC\n",
              "//\n",
              "// Licensed under the Apache License, Version 2.0 (the \"License\");\n",
              "// you may not use this file except in compliance with the License.\n",
              "// You may obtain a copy of the License at\n",
              "//\n",
              "//      http://www.apache.org/licenses/LICENSE-2.0\n",
              "//\n",
              "// Unless required by applicable law or agreed to in writing, software\n",
              "// distributed under the License is distributed on an \"AS IS\" BASIS,\n",
              "// WITHOUT WARRANTIES OR CONDITIONS OF ANY KIND, either express or implied.\n",
              "// See the License for the specific language governing permissions and\n",
              "// limitations under the License.\n",
              "\n",
              "/**\n",
              " * @fileoverview Helpers for google.colab Python module.\n",
              " */\n",
              "(function(scope) {\n",
              "function span(text, styleAttributes = {}) {\n",
              "  const element = document.createElement('span');\n",
              "  element.textContent = text;\n",
              "  for (const key of Object.keys(styleAttributes)) {\n",
              "    element.style[key] = styleAttributes[key];\n",
              "  }\n",
              "  return element;\n",
              "}\n",
              "\n",
              "// Max number of bytes which will be uploaded at a time.\n",
              "const MAX_PAYLOAD_SIZE = 100 * 1024;\n",
              "\n",
              "function _uploadFiles(inputId, outputId) {\n",
              "  const steps = uploadFilesStep(inputId, outputId);\n",
              "  const outputElement = document.getElementById(outputId);\n",
              "  // Cache steps on the outputElement to make it available for the next call\n",
              "  // to uploadFilesContinue from Python.\n",
              "  outputElement.steps = steps;\n",
              "\n",
              "  return _uploadFilesContinue(outputId);\n",
              "}\n",
              "\n",
              "// This is roughly an async generator (not supported in the browser yet),\n",
              "// where there are multiple asynchronous steps and the Python side is going\n",
              "// to poll for completion of each step.\n",
              "// This uses a Promise to block the python side on completion of each step,\n",
              "// then passes the result of the previous step as the input to the next step.\n",
              "function _uploadFilesContinue(outputId) {\n",
              "  const outputElement = document.getElementById(outputId);\n",
              "  const steps = outputElement.steps;\n",
              "\n",
              "  const next = steps.next(outputElement.lastPromiseValue);\n",
              "  return Promise.resolve(next.value.promise).then((value) => {\n",
              "    // Cache the last promise value to make it available to the next\n",
              "    // step of the generator.\n",
              "    outputElement.lastPromiseValue = value;\n",
              "    return next.value.response;\n",
              "  });\n",
              "}\n",
              "\n",
              "/**\n",
              " * Generator function which is called between each async step of the upload\n",
              " * process.\n",
              " * @param {string} inputId Element ID of the input file picker element.\n",
              " * @param {string} outputId Element ID of the output display.\n",
              " * @return {!Iterable<!Object>} Iterable of next steps.\n",
              " */\n",
              "function* uploadFilesStep(inputId, outputId) {\n",
              "  const inputElement = document.getElementById(inputId);\n",
              "  inputElement.disabled = false;\n",
              "\n",
              "  const outputElement = document.getElementById(outputId);\n",
              "  outputElement.innerHTML = '';\n",
              "\n",
              "  const pickedPromise = new Promise((resolve) => {\n",
              "    inputElement.addEventListener('change', (e) => {\n",
              "      resolve(e.target.files);\n",
              "    });\n",
              "  });\n",
              "\n",
              "  const cancel = document.createElement('button');\n",
              "  inputElement.parentElement.appendChild(cancel);\n",
              "  cancel.textContent = 'Cancel upload';\n",
              "  const cancelPromise = new Promise((resolve) => {\n",
              "    cancel.onclick = () => {\n",
              "      resolve(null);\n",
              "    };\n",
              "  });\n",
              "\n",
              "  // Wait for the user to pick the files.\n",
              "  const files = yield {\n",
              "    promise: Promise.race([pickedPromise, cancelPromise]),\n",
              "    response: {\n",
              "      action: 'starting',\n",
              "    }\n",
              "  };\n",
              "\n",
              "  cancel.remove();\n",
              "\n",
              "  // Disable the input element since further picks are not allowed.\n",
              "  inputElement.disabled = true;\n",
              "\n",
              "  if (!files) {\n",
              "    return {\n",
              "      response: {\n",
              "        action: 'complete',\n",
              "      }\n",
              "    };\n",
              "  }\n",
              "\n",
              "  for (const file of files) {\n",
              "    const li = document.createElement('li');\n",
              "    li.append(span(file.name, {fontWeight: 'bold'}));\n",
              "    li.append(span(\n",
              "        `(${file.type || 'n/a'}) - ${file.size} bytes, ` +\n",
              "        `last modified: ${\n",
              "            file.lastModifiedDate ? file.lastModifiedDate.toLocaleDateString() :\n",
              "                                    'n/a'} - `));\n",
              "    const percent = span('0% done');\n",
              "    li.appendChild(percent);\n",
              "\n",
              "    outputElement.appendChild(li);\n",
              "\n",
              "    const fileDataPromise = new Promise((resolve) => {\n",
              "      const reader = new FileReader();\n",
              "      reader.onload = (e) => {\n",
              "        resolve(e.target.result);\n",
              "      };\n",
              "      reader.readAsArrayBuffer(file);\n",
              "    });\n",
              "    // Wait for the data to be ready.\n",
              "    let fileData = yield {\n",
              "      promise: fileDataPromise,\n",
              "      response: {\n",
              "        action: 'continue',\n",
              "      }\n",
              "    };\n",
              "\n",
              "    // Use a chunked sending to avoid message size limits. See b/62115660.\n",
              "    let position = 0;\n",
              "    do {\n",
              "      const length = Math.min(fileData.byteLength - position, MAX_PAYLOAD_SIZE);\n",
              "      const chunk = new Uint8Array(fileData, position, length);\n",
              "      position += length;\n",
              "\n",
              "      const base64 = btoa(String.fromCharCode.apply(null, chunk));\n",
              "      yield {\n",
              "        response: {\n",
              "          action: 'append',\n",
              "          file: file.name,\n",
              "          data: base64,\n",
              "        },\n",
              "      };\n",
              "\n",
              "      let percentDone = fileData.byteLength === 0 ?\n",
              "          100 :\n",
              "          Math.round((position / fileData.byteLength) * 100);\n",
              "      percent.textContent = `${percentDone}% done`;\n",
              "\n",
              "    } while (position < fileData.byteLength);\n",
              "  }\n",
              "\n",
              "  // All done.\n",
              "  yield {\n",
              "    response: {\n",
              "      action: 'complete',\n",
              "    }\n",
              "  };\n",
              "}\n",
              "\n",
              "scope.google = scope.google || {};\n",
              "scope.google.colab = scope.google.colab || {};\n",
              "scope.google.colab._files = {\n",
              "  _uploadFiles,\n",
              "  _uploadFilesContinue,\n",
              "};\n",
              "})(self);\n",
              "</script> "
            ],
            "text/plain": [
              "<IPython.core.display.HTML object>"
            ]
          },
          "metadata": {},
          "output_type": "display_data"
        },
        {
          "name": "stdout",
          "output_type": "stream",
          "text": [
            "Saving Diabetes_training.csv to Diabetes_training.csv\n",
            "Saving Diabetes_Xtest.csv to Diabetes_Xtest.csv\n"
          ]
        },
        {
          "data": {
            "text/html": [
              "\n",
              "  <div id=\"df-2f411db3-34f3-44bc-a435-3656f8d44921\">\n",
              "    <div class=\"colab-df-container\">\n",
              "      <div>\n",
              "<style scoped>\n",
              "    .dataframe tbody tr th:only-of-type {\n",
              "        vertical-align: middle;\n",
              "    }\n",
              "\n",
              "    .dataframe tbody tr th {\n",
              "        vertical-align: top;\n",
              "    }\n",
              "\n",
              "    .dataframe thead th {\n",
              "        text-align: right;\n",
              "    }\n",
              "</style>\n",
              "<table border=\"1\" class=\"dataframe\">\n",
              "  <thead>\n",
              "    <tr style=\"text-align: right;\">\n",
              "      <th></th>\n",
              "      <th>pregnant</th>\n",
              "      <th>glucose</th>\n",
              "      <th>pressure</th>\n",
              "      <th>triceps</th>\n",
              "      <th>insulin</th>\n",
              "      <th>mass</th>\n",
              "      <th>pedigree</th>\n",
              "      <th>age</th>\n",
              "      <th>diabetes</th>\n",
              "    </tr>\n",
              "  </thead>\n",
              "  <tbody>\n",
              "    <tr>\n",
              "      <th>0</th>\n",
              "      <td>13</td>\n",
              "      <td>129</td>\n",
              "      <td>0</td>\n",
              "      <td>30</td>\n",
              "      <td>0</td>\n",
              "      <td>39.9</td>\n",
              "      <td>0.569</td>\n",
              "      <td>44</td>\n",
              "      <td>pos</td>\n",
              "    </tr>\n",
              "    <tr>\n",
              "      <th>1</th>\n",
              "      <td>9</td>\n",
              "      <td>184</td>\n",
              "      <td>85</td>\n",
              "      <td>15</td>\n",
              "      <td>0</td>\n",
              "      <td>30.0</td>\n",
              "      <td>1.213</td>\n",
              "      <td>49</td>\n",
              "      <td>pos</td>\n",
              "    </tr>\n",
              "    <tr>\n",
              "      <th>2</th>\n",
              "      <td>3</td>\n",
              "      <td>193</td>\n",
              "      <td>70</td>\n",
              "      <td>31</td>\n",
              "      <td>0</td>\n",
              "      <td>34.9</td>\n",
              "      <td>0.241</td>\n",
              "      <td>25</td>\n",
              "      <td>pos</td>\n",
              "    </tr>\n",
              "    <tr>\n",
              "      <th>3</th>\n",
              "      <td>4</td>\n",
              "      <td>146</td>\n",
              "      <td>78</td>\n",
              "      <td>0</td>\n",
              "      <td>0</td>\n",
              "      <td>38.5</td>\n",
              "      <td>0.520</td>\n",
              "      <td>67</td>\n",
              "      <td>pos</td>\n",
              "    </tr>\n",
              "    <tr>\n",
              "      <th>4</th>\n",
              "      <td>3</td>\n",
              "      <td>174</td>\n",
              "      <td>58</td>\n",
              "      <td>22</td>\n",
              "      <td>194</td>\n",
              "      <td>32.9</td>\n",
              "      <td>0.593</td>\n",
              "      <td>36</td>\n",
              "      <td>pos</td>\n",
              "    </tr>\n",
              "  </tbody>\n",
              "</table>\n",
              "</div>\n",
              "      <button class=\"colab-df-convert\" onclick=\"convertToInteractive('df-2f411db3-34f3-44bc-a435-3656f8d44921')\"\n",
              "              title=\"Convert this dataframe to an interactive table.\"\n",
              "              style=\"display:none;\">\n",
              "        \n",
              "  <svg xmlns=\"http://www.w3.org/2000/svg\" height=\"24px\"viewBox=\"0 0 24 24\"\n",
              "       width=\"24px\">\n",
              "    <path d=\"M0 0h24v24H0V0z\" fill=\"none\"/>\n",
              "    <path d=\"M18.56 5.44l.94 2.06.94-2.06 2.06-.94-2.06-.94-.94-2.06-.94 2.06-2.06.94zm-11 1L8.5 8.5l.94-2.06 2.06-.94-2.06-.94L8.5 2.5l-.94 2.06-2.06.94zm10 10l.94 2.06.94-2.06 2.06-.94-2.06-.94-.94-2.06-.94 2.06-2.06.94z\"/><path d=\"M17.41 7.96l-1.37-1.37c-.4-.4-.92-.59-1.43-.59-.52 0-1.04.2-1.43.59L10.3 9.45l-7.72 7.72c-.78.78-.78 2.05 0 2.83L4 21.41c.39.39.9.59 1.41.59.51 0 1.02-.2 1.41-.59l7.78-7.78 2.81-2.81c.8-.78.8-2.07 0-2.86zM5.41 20L4 18.59l7.72-7.72 1.47 1.35L5.41 20z\"/>\n",
              "  </svg>\n",
              "      </button>\n",
              "      \n",
              "  <style>\n",
              "    .colab-df-container {\n",
              "      display:flex;\n",
              "      flex-wrap:wrap;\n",
              "      gap: 12px;\n",
              "    }\n",
              "\n",
              "    .colab-df-convert {\n",
              "      background-color: #E8F0FE;\n",
              "      border: none;\n",
              "      border-radius: 50%;\n",
              "      cursor: pointer;\n",
              "      display: none;\n",
              "      fill: #1967D2;\n",
              "      height: 32px;\n",
              "      padding: 0 0 0 0;\n",
              "      width: 32px;\n",
              "    }\n",
              "\n",
              "    .colab-df-convert:hover {\n",
              "      background-color: #E2EBFA;\n",
              "      box-shadow: 0px 1px 2px rgba(60, 64, 67, 0.3), 0px 1px 3px 1px rgba(60, 64, 67, 0.15);\n",
              "      fill: #174EA6;\n",
              "    }\n",
              "\n",
              "    [theme=dark] .colab-df-convert {\n",
              "      background-color: #3B4455;\n",
              "      fill: #D2E3FC;\n",
              "    }\n",
              "\n",
              "    [theme=dark] .colab-df-convert:hover {\n",
              "      background-color: #434B5C;\n",
              "      box-shadow: 0px 1px 3px 1px rgba(0, 0, 0, 0.15);\n",
              "      filter: drop-shadow(0px 1px 2px rgba(0, 0, 0, 0.3));\n",
              "      fill: #FFFFFF;\n",
              "    }\n",
              "  </style>\n",
              "\n",
              "      <script>\n",
              "        const buttonEl =\n",
              "          document.querySelector('#df-2f411db3-34f3-44bc-a435-3656f8d44921 button.colab-df-convert');\n",
              "        buttonEl.style.display =\n",
              "          google.colab.kernel.accessAllowed ? 'block' : 'none';\n",
              "\n",
              "        async function convertToInteractive(key) {\n",
              "          const element = document.querySelector('#df-2f411db3-34f3-44bc-a435-3656f8d44921');\n",
              "          const dataTable =\n",
              "            await google.colab.kernel.invokeFunction('convertToInteractive',\n",
              "                                                     [key], {});\n",
              "          if (!dataTable) return;\n",
              "\n",
              "          const docLinkHtml = 'Like what you see? Visit the ' +\n",
              "            '<a target=\"_blank\" href=https://colab.research.google.com/notebooks/data_table.ipynb>data table notebook</a>'\n",
              "            + ' to learn more about interactive tables.';\n",
              "          element.innerHTML = '';\n",
              "          dataTable['output_type'] = 'display_data';\n",
              "          await google.colab.output.renderOutput(dataTable, element);\n",
              "          const docLink = document.createElement('div');\n",
              "          docLink.innerHTML = docLinkHtml;\n",
              "          element.appendChild(docLink);\n",
              "        }\n",
              "      </script>\n",
              "    </div>\n",
              "  </div>\n",
              "  "
            ],
            "text/plain": [
              "   pregnant  glucose  pressure  triceps  insulin  mass  pedigree  age diabetes\n",
              "0        13      129         0       30        0  39.9     0.569   44      pos\n",
              "1         9      184        85       15        0  30.0     1.213   49      pos\n",
              "2         3      193        70       31        0  34.9     0.241   25      pos\n",
              "3         4      146        78        0        0  38.5     0.520   67      pos\n",
              "4         3      174        58       22      194  32.9     0.593   36      pos"
            ]
          },
          "execution_count": 23,
          "metadata": {},
          "output_type": "execute_result"
        }
      ],
      "source": [
        "# Load your training data set and test data\n",
        "uploaded2 = files.upload()\n",
        "\n",
        "diabetes_train = pd.read_csv('Diabetes_training.csv')\n",
        "diabetes_test = pd.read_csv('Diabetes_Xtest.csv')\n",
        "diabetes_train.head()"
      ]
    },
    {
      "cell_type": "code",
      "execution_count": 91,
      "metadata": {
        "id": "et0ATMwzrU-0"
      },
      "outputs": [],
      "source": [
        "# Split training data into X and y\n",
        "X = diabetes_train.iloc[:,:8]\n",
        "y = diabetes_train.iloc[:,8:]"
      ]
    },
    {
      "cell_type": "markdown",
      "metadata": {
        "id": "8MVch-0-owrH"
      },
      "source": [
        "Standardize the features on training and test set."
      ]
    },
    {
      "cell_type": "code",
      "execution_count": 92,
      "metadata": {
        "colab": {
          "base_uri": "https://localhost:8080/",
          "height": 206
        },
        "id": "wShbdeiWomoY",
        "outputId": "4d150b54-f21b-46e7-efb7-3ee74dc3fa7b"
      },
      "outputs": [
        {
          "data": {
            "text/html": [
              "\n",
              "  <div id=\"df-7bfe4eb0-3ef8-4e43-a5ca-a1169cb498e3\">\n",
              "    <div class=\"colab-df-container\">\n",
              "      <div>\n",
              "<style scoped>\n",
              "    .dataframe tbody tr th:only-of-type {\n",
              "        vertical-align: middle;\n",
              "    }\n",
              "\n",
              "    .dataframe tbody tr th {\n",
              "        vertical-align: top;\n",
              "    }\n",
              "\n",
              "    .dataframe thead th {\n",
              "        text-align: right;\n",
              "    }\n",
              "</style>\n",
              "<table border=\"1\" class=\"dataframe\">\n",
              "  <thead>\n",
              "    <tr style=\"text-align: right;\">\n",
              "      <th></th>\n",
              "      <th>pregnant</th>\n",
              "      <th>glucose</th>\n",
              "      <th>pressure</th>\n",
              "      <th>triceps</th>\n",
              "      <th>insulin</th>\n",
              "      <th>mass</th>\n",
              "      <th>pedigree</th>\n",
              "      <th>age</th>\n",
              "    </tr>\n",
              "  </thead>\n",
              "  <tbody>\n",
              "    <tr>\n",
              "      <th>0</th>\n",
              "      <td>2.687535</td>\n",
              "      <td>0.259804</td>\n",
              "      <td>-3.502800</td>\n",
              "      <td>0.606526</td>\n",
              "      <td>-0.674278</td>\n",
              "      <td>1.044804</td>\n",
              "      <td>0.250184</td>\n",
              "      <td>0.893537</td>\n",
              "    </tr>\n",
              "    <tr>\n",
              "      <th>1</th>\n",
              "      <td>1.503807</td>\n",
              "      <td>1.961746</td>\n",
              "      <td>0.832204</td>\n",
              "      <td>-0.326425</td>\n",
              "      <td>-0.674278</td>\n",
              "      <td>-0.237179</td>\n",
              "      <td>2.086872</td>\n",
              "      <td>1.314369</td>\n",
              "    </tr>\n",
              "    <tr>\n",
              "      <th>2</th>\n",
              "      <td>-0.271785</td>\n",
              "      <td>2.240245</td>\n",
              "      <td>0.067203</td>\n",
              "      <td>0.668723</td>\n",
              "      <td>-0.674278</td>\n",
              "      <td>0.397337</td>\n",
              "      <td>-0.685272</td>\n",
              "      <td>-0.705624</td>\n",
              "    </tr>\n",
              "    <tr>\n",
              "      <th>3</th>\n",
              "      <td>0.024147</td>\n",
              "      <td>0.785859</td>\n",
              "      <td>0.475204</td>\n",
              "      <td>-1.259376</td>\n",
              "      <td>-0.674278</td>\n",
              "      <td>0.863513</td>\n",
              "      <td>0.110436</td>\n",
              "      <td>2.829364</td>\n",
              "    </tr>\n",
              "    <tr>\n",
              "      <th>4</th>\n",
              "      <td>-0.271785</td>\n",
              "      <td>1.652302</td>\n",
              "      <td>-0.544797</td>\n",
              "      <td>0.108952</td>\n",
              "      <td>0.926898</td>\n",
              "      <td>0.138351</td>\n",
              "      <td>0.318632</td>\n",
              "      <td>0.220206</td>\n",
              "    </tr>\n",
              "  </tbody>\n",
              "</table>\n",
              "</div>\n",
              "      <button class=\"colab-df-convert\" onclick=\"convertToInteractive('df-7bfe4eb0-3ef8-4e43-a5ca-a1169cb498e3')\"\n",
              "              title=\"Convert this dataframe to an interactive table.\"\n",
              "              style=\"display:none;\">\n",
              "        \n",
              "  <svg xmlns=\"http://www.w3.org/2000/svg\" height=\"24px\"viewBox=\"0 0 24 24\"\n",
              "       width=\"24px\">\n",
              "    <path d=\"M0 0h24v24H0V0z\" fill=\"none\"/>\n",
              "    <path d=\"M18.56 5.44l.94 2.06.94-2.06 2.06-.94-2.06-.94-.94-2.06-.94 2.06-2.06.94zm-11 1L8.5 8.5l.94-2.06 2.06-.94-2.06-.94L8.5 2.5l-.94 2.06-2.06.94zm10 10l.94 2.06.94-2.06 2.06-.94-2.06-.94-.94-2.06-.94 2.06-2.06.94z\"/><path d=\"M17.41 7.96l-1.37-1.37c-.4-.4-.92-.59-1.43-.59-.52 0-1.04.2-1.43.59L10.3 9.45l-7.72 7.72c-.78.78-.78 2.05 0 2.83L4 21.41c.39.39.9.59 1.41.59.51 0 1.02-.2 1.41-.59l7.78-7.78 2.81-2.81c.8-.78.8-2.07 0-2.86zM5.41 20L4 18.59l7.72-7.72 1.47 1.35L5.41 20z\"/>\n",
              "  </svg>\n",
              "      </button>\n",
              "      \n",
              "  <style>\n",
              "    .colab-df-container {\n",
              "      display:flex;\n",
              "      flex-wrap:wrap;\n",
              "      gap: 12px;\n",
              "    }\n",
              "\n",
              "    .colab-df-convert {\n",
              "      background-color: #E8F0FE;\n",
              "      border: none;\n",
              "      border-radius: 50%;\n",
              "      cursor: pointer;\n",
              "      display: none;\n",
              "      fill: #1967D2;\n",
              "      height: 32px;\n",
              "      padding: 0 0 0 0;\n",
              "      width: 32px;\n",
              "    }\n",
              "\n",
              "    .colab-df-convert:hover {\n",
              "      background-color: #E2EBFA;\n",
              "      box-shadow: 0px 1px 2px rgba(60, 64, 67, 0.3), 0px 1px 3px 1px rgba(60, 64, 67, 0.15);\n",
              "      fill: #174EA6;\n",
              "    }\n",
              "\n",
              "    [theme=dark] .colab-df-convert {\n",
              "      background-color: #3B4455;\n",
              "      fill: #D2E3FC;\n",
              "    }\n",
              "\n",
              "    [theme=dark] .colab-df-convert:hover {\n",
              "      background-color: #434B5C;\n",
              "      box-shadow: 0px 1px 3px 1px rgba(0, 0, 0, 0.15);\n",
              "      filter: drop-shadow(0px 1px 2px rgba(0, 0, 0, 0.3));\n",
              "      fill: #FFFFFF;\n",
              "    }\n",
              "  </style>\n",
              "\n",
              "      <script>\n",
              "        const buttonEl =\n",
              "          document.querySelector('#df-7bfe4eb0-3ef8-4e43-a5ca-a1169cb498e3 button.colab-df-convert');\n",
              "        buttonEl.style.display =\n",
              "          google.colab.kernel.accessAllowed ? 'block' : 'none';\n",
              "\n",
              "        async function convertToInteractive(key) {\n",
              "          const element = document.querySelector('#df-7bfe4eb0-3ef8-4e43-a5ca-a1169cb498e3');\n",
              "          const dataTable =\n",
              "            await google.colab.kernel.invokeFunction('convertToInteractive',\n",
              "                                                     [key], {});\n",
              "          if (!dataTable) return;\n",
              "\n",
              "          const docLinkHtml = 'Like what you see? Visit the ' +\n",
              "            '<a target=\"_blank\" href=https://colab.research.google.com/notebooks/data_table.ipynb>data table notebook</a>'\n",
              "            + ' to learn more about interactive tables.';\n",
              "          element.innerHTML = '';\n",
              "          dataTable['output_type'] = 'display_data';\n",
              "          await google.colab.output.renderOutput(dataTable, element);\n",
              "          const docLink = document.createElement('div');\n",
              "          docLink.innerHTML = docLinkHtml;\n",
              "          element.appendChild(docLink);\n",
              "        }\n",
              "      </script>\n",
              "    </div>\n",
              "  </div>\n",
              "  "
            ],
            "text/plain": [
              "   pregnant   glucose  pressure   triceps   insulin      mass  pedigree  \\\n",
              "0  2.687535  0.259804 -3.502800  0.606526 -0.674278  1.044804  0.250184   \n",
              "1  1.503807  1.961746  0.832204 -0.326425 -0.674278 -0.237179  2.086872   \n",
              "2 -0.271785  2.240245  0.067203  0.668723 -0.674278  0.397337 -0.685272   \n",
              "3  0.024147  0.785859  0.475204 -1.259376 -0.674278  0.863513  0.110436   \n",
              "4 -0.271785  1.652302 -0.544797  0.108952  0.926898  0.138351  0.318632   \n",
              "\n",
              "        age  \n",
              "0  0.893537  \n",
              "1  1.314369  \n",
              "2 -0.705624  \n",
              "3  2.829364  \n",
              "4  0.220206  "
            ]
          },
          "execution_count": 92,
          "metadata": {},
          "output_type": "execute_result"
        }
      ],
      "source": [
        "from sklearn.preprocessing import StandardScaler\n",
        "sc = StandardScaler()\n",
        "X = pd.DataFrame(sc.fit_transform(X), columns = X.columns)\n",
        "X.head()"
      ]
    },
    {
      "cell_type": "code",
      "execution_count": 93,
      "metadata": {
        "colab": {
          "base_uri": "https://localhost:8080/",
          "height": 206
        },
        "id": "9jH22v3ddRhl",
        "outputId": "eb15913c-0793-43b4-c735-9a918b8b8ddc"
      },
      "outputs": [
        {
          "data": {
            "text/html": [
              "\n",
              "  <div id=\"df-691e73a2-dc47-423f-baa5-491ab848b5a7\">\n",
              "    <div class=\"colab-df-container\">\n",
              "      <div>\n",
              "<style scoped>\n",
              "    .dataframe tbody tr th:only-of-type {\n",
              "        vertical-align: middle;\n",
              "    }\n",
              "\n",
              "    .dataframe tbody tr th {\n",
              "        vertical-align: top;\n",
              "    }\n",
              "\n",
              "    .dataframe thead th {\n",
              "        text-align: right;\n",
              "    }\n",
              "</style>\n",
              "<table border=\"1\" class=\"dataframe\">\n",
              "  <thead>\n",
              "    <tr style=\"text-align: right;\">\n",
              "      <th></th>\n",
              "      <th>pregnant</th>\n",
              "      <th>glucose</th>\n",
              "      <th>pressure</th>\n",
              "      <th>triceps</th>\n",
              "      <th>insulin</th>\n",
              "      <th>mass</th>\n",
              "      <th>pedigree</th>\n",
              "      <th>age</th>\n",
              "    </tr>\n",
              "  </thead>\n",
              "  <tbody>\n",
              "    <tr>\n",
              "      <th>0</th>\n",
              "      <td>-0.863649</td>\n",
              "      <td>-0.977972</td>\n",
              "      <td>-0.136797</td>\n",
              "      <td>0.171149</td>\n",
              "      <td>0.101549</td>\n",
              "      <td>-0.483217</td>\n",
              "      <td>-0.896320</td>\n",
              "      <td>-1.042290</td>\n",
              "    </tr>\n",
              "    <tr>\n",
              "      <th>1</th>\n",
              "      <td>0.320079</td>\n",
              "      <td>-0.142473</td>\n",
              "      <td>0.271203</td>\n",
              "      <td>-1.259376</td>\n",
              "      <td>-0.674278</td>\n",
              "      <td>-0.806950</td>\n",
              "      <td>-0.799352</td>\n",
              "      <td>-0.284792</td>\n",
              "    </tr>\n",
              "    <tr>\n",
              "      <th>2</th>\n",
              "      <td>-0.271785</td>\n",
              "      <td>-1.318360</td>\n",
              "      <td>-0.952798</td>\n",
              "      <td>0.730920</td>\n",
              "      <td>0.052028</td>\n",
              "      <td>-0.107686</td>\n",
              "      <td>-0.665308</td>\n",
              "      <td>-0.621458</td>\n",
              "    </tr>\n",
              "    <tr>\n",
              "      <th>3</th>\n",
              "      <td>1.207875</td>\n",
              "      <td>0.136026</td>\n",
              "      <td>1.393204</td>\n",
              "      <td>-1.259376</td>\n",
              "      <td>-0.674278</td>\n",
              "      <td>-4.121977</td>\n",
              "      <td>-0.710940</td>\n",
              "      <td>1.735201</td>\n",
              "    </tr>\n",
              "    <tr>\n",
              "      <th>4</th>\n",
              "      <td>1.799739</td>\n",
              "      <td>1.466635</td>\n",
              "      <td>0.271203</td>\n",
              "      <td>-1.259376</td>\n",
              "      <td>-0.674278</td>\n",
              "      <td>0.798766</td>\n",
              "      <td>0.158920</td>\n",
              "      <td>0.051873</td>\n",
              "    </tr>\n",
              "  </tbody>\n",
              "</table>\n",
              "</div>\n",
              "      <button class=\"colab-df-convert\" onclick=\"convertToInteractive('df-691e73a2-dc47-423f-baa5-491ab848b5a7')\"\n",
              "              title=\"Convert this dataframe to an interactive table.\"\n",
              "              style=\"display:none;\">\n",
              "        \n",
              "  <svg xmlns=\"http://www.w3.org/2000/svg\" height=\"24px\"viewBox=\"0 0 24 24\"\n",
              "       width=\"24px\">\n",
              "    <path d=\"M0 0h24v24H0V0z\" fill=\"none\"/>\n",
              "    <path d=\"M18.56 5.44l.94 2.06.94-2.06 2.06-.94-2.06-.94-.94-2.06-.94 2.06-2.06.94zm-11 1L8.5 8.5l.94-2.06 2.06-.94-2.06-.94L8.5 2.5l-.94 2.06-2.06.94zm10 10l.94 2.06.94-2.06 2.06-.94-2.06-.94-.94-2.06-.94 2.06-2.06.94z\"/><path d=\"M17.41 7.96l-1.37-1.37c-.4-.4-.92-.59-1.43-.59-.52 0-1.04.2-1.43.59L10.3 9.45l-7.72 7.72c-.78.78-.78 2.05 0 2.83L4 21.41c.39.39.9.59 1.41.59.51 0 1.02-.2 1.41-.59l7.78-7.78 2.81-2.81c.8-.78.8-2.07 0-2.86zM5.41 20L4 18.59l7.72-7.72 1.47 1.35L5.41 20z\"/>\n",
              "  </svg>\n",
              "      </button>\n",
              "      \n",
              "  <style>\n",
              "    .colab-df-container {\n",
              "      display:flex;\n",
              "      flex-wrap:wrap;\n",
              "      gap: 12px;\n",
              "    }\n",
              "\n",
              "    .colab-df-convert {\n",
              "      background-color: #E8F0FE;\n",
              "      border: none;\n",
              "      border-radius: 50%;\n",
              "      cursor: pointer;\n",
              "      display: none;\n",
              "      fill: #1967D2;\n",
              "      height: 32px;\n",
              "      padding: 0 0 0 0;\n",
              "      width: 32px;\n",
              "    }\n",
              "\n",
              "    .colab-df-convert:hover {\n",
              "      background-color: #E2EBFA;\n",
              "      box-shadow: 0px 1px 2px rgba(60, 64, 67, 0.3), 0px 1px 3px 1px rgba(60, 64, 67, 0.15);\n",
              "      fill: #174EA6;\n",
              "    }\n",
              "\n",
              "    [theme=dark] .colab-df-convert {\n",
              "      background-color: #3B4455;\n",
              "      fill: #D2E3FC;\n",
              "    }\n",
              "\n",
              "    [theme=dark] .colab-df-convert:hover {\n",
              "      background-color: #434B5C;\n",
              "      box-shadow: 0px 1px 3px 1px rgba(0, 0, 0, 0.15);\n",
              "      filter: drop-shadow(0px 1px 2px rgba(0, 0, 0, 0.3));\n",
              "      fill: #FFFFFF;\n",
              "    }\n",
              "  </style>\n",
              "\n",
              "      <script>\n",
              "        const buttonEl =\n",
              "          document.querySelector('#df-691e73a2-dc47-423f-baa5-491ab848b5a7 button.colab-df-convert');\n",
              "        buttonEl.style.display =\n",
              "          google.colab.kernel.accessAllowed ? 'block' : 'none';\n",
              "\n",
              "        async function convertToInteractive(key) {\n",
              "          const element = document.querySelector('#df-691e73a2-dc47-423f-baa5-491ab848b5a7');\n",
              "          const dataTable =\n",
              "            await google.colab.kernel.invokeFunction('convertToInteractive',\n",
              "                                                     [key], {});\n",
              "          if (!dataTable) return;\n",
              "\n",
              "          const docLinkHtml = 'Like what you see? Visit the ' +\n",
              "            '<a target=\"_blank\" href=https://colab.research.google.com/notebooks/data_table.ipynb>data table notebook</a>'\n",
              "            + ' to learn more about interactive tables.';\n",
              "          element.innerHTML = '';\n",
              "          dataTable['output_type'] = 'display_data';\n",
              "          await google.colab.output.renderOutput(dataTable, element);\n",
              "          const docLink = document.createElement('div');\n",
              "          docLink.innerHTML = docLinkHtml;\n",
              "          element.appendChild(docLink);\n",
              "        }\n",
              "      </script>\n",
              "    </div>\n",
              "  </div>\n",
              "  "
            ],
            "text/plain": [
              "   pregnant   glucose  pressure   triceps   insulin      mass  pedigree  \\\n",
              "0 -0.863649 -0.977972 -0.136797  0.171149  0.101549 -0.483217 -0.896320   \n",
              "1  0.320079 -0.142473  0.271203 -1.259376 -0.674278 -0.806950 -0.799352   \n",
              "2 -0.271785 -1.318360 -0.952798  0.730920  0.052028 -0.107686 -0.665308   \n",
              "3  1.207875  0.136026  1.393204 -1.259376 -0.674278 -4.121977 -0.710940   \n",
              "4  1.799739  1.466635  0.271203 -1.259376 -0.674278  0.798766  0.158920   \n",
              "\n",
              "        age  \n",
              "0 -1.042290  \n",
              "1 -0.284792  \n",
              "2 -0.621458  \n",
              "3  1.735201  \n",
              "4  0.051873  "
            ]
          },
          "execution_count": 93,
          "metadata": {},
          "output_type": "execute_result"
        }
      ],
      "source": [
        "X_test = pd.DataFrame(sc.transform(diabetes_test), columns = diabetes_test.columns)\n",
        "X_test.head()"
      ]
    },
    {
      "cell_type": "markdown",
      "metadata": {
        "id": "6RSaaaHgr8Cd"
      },
      "source": [
        "Splitting training data into training and validation set (the code has been provided)"
      ]
    },
    {
      "cell_type": "code",
      "execution_count": 94,
      "metadata": {
        "colab": {
          "base_uri": "https://localhost:8080/"
        },
        "id": "3DzsHi6ir9IK",
        "outputId": "5ceb89ec-09c5-4b49-ff4f-a3ddbb14d36c"
      },
      "outputs": [
        {
          "data": {
            "text/plain": [
              "((403, 8), (173, 8), (403, 1), (173, 1))"
            ]
          },
          "execution_count": 94,
          "metadata": {},
          "output_type": "execute_result"
        }
      ],
      "source": [
        "from sklearn.model_selection import train_test_split\n",
        "X_train, X_val, y_train, y_val = train_test_split(X, y, test_size = 0.3, random_state=20)\n",
        "X_train.shape, X_val.shape, y_train.shape, y_val.shape"
      ]
    },
    {
      "attachments": {},
      "cell_type": "markdown",
      "metadata": {
        "id": "LXXOovbrsa2k"
      },
      "source": [
        "### Decision Tree\n",
        "From sklearn.tree used DecisionTreeClassifier to build a classification model with default parameters."
      ]
    },
    {
      "cell_type": "code",
      "execution_count": 95,
      "metadata": {
        "colab": {
          "base_uri": "https://localhost:8080/"
        },
        "id": "nqYXkEHDscGu",
        "outputId": "b3d93083-47f7-4e77-bfa1-61600580843a"
      },
      "outputs": [
        {
          "data": {
            "text/plain": [
              "DecisionTreeClassifier(random_state=30)"
            ]
          },
          "execution_count": 95,
          "metadata": {},
          "output_type": "execute_result"
        }
      ],
      "source": [
        "from sklearn.tree import DecisionTreeClassifier\n",
        "### Fit the classifier on the training data\n",
        "# Please set random_state=30\n",
        "clf = DecisionTreeClassifier(random_state = 30)\n",
        "clf.fit(X_train, y_train)"
      ]
    },
    {
      "cell_type": "code",
      "execution_count": 96,
      "metadata": {
        "id": "g1z_pShQtcUX"
      },
      "outputs": [],
      "source": [
        "### Make predictions on the training data\n",
        "y_pred_train = clf.predict(X_train)"
      ]
    },
    {
      "cell_type": "markdown",
      "metadata": {
        "id": "kPp2cIUMuS4p"
      },
      "source": [
        "Print accuracy, precision and recall for the predictions made on the training data. "
      ]
    },
    {
      "cell_type": "code",
      "execution_count": 97,
      "metadata": {
        "colab": {
          "base_uri": "https://localhost:8080/"
        },
        "id": "CpqQd8W0ayP_",
        "outputId": "ef7203a8-19dd-4671-c527-41d0a33f2dd1"
      },
      "outputs": [
        {
          "name": "stdout",
          "output_type": "stream",
          "text": [
            "Accuracy is 100.0%\n",
            "Precision is 100.0%\n",
            "Recall is 100.0%\n"
          ]
        }
      ],
      "source": [
        "# Print accuracy, precision and recall for the predictions made on the training data.\n",
        "from sklearn.metrics import accuracy_score\n",
        "from sklearn.metrics import precision_score\n",
        "from sklearn.metrics import recall_score\n",
        "print(f'Accuracy is {round(accuracy_score(y_train, y_pred_train)*100,2)}%')\n",
        "print(f'Precision is {round(precision_score(y_train, y_pred_train, average=\"binary\", pos_label=\"pos\")*100,2)}%')\n",
        "print(f'Recall is {round(recall_score(y_train, y_pred_train, average=\"binary\", pos_label=\"pos\")*100,2)}%')"
      ]
    },
    {
      "cell_type": "code",
      "execution_count": 98,
      "metadata": {
        "id": "QHx99fcqvA9R"
      },
      "outputs": [],
      "source": [
        "### Make predictions on the validation data\n",
        "y_pred_val = clf.predict(X_val)"
      ]
    },
    {
      "cell_type": "markdown",
      "metadata": {
        "id": "-77rKnkXvTs0"
      },
      "source": [
        "Print accuracy, prediction and recall for the predictions made on the validation data."
      ]
    },
    {
      "cell_type": "code",
      "execution_count": 99,
      "metadata": {
        "colab": {
          "base_uri": "https://localhost:8080/"
        },
        "id": "2e_HZneYva4d",
        "outputId": "ca4c33b4-0ae6-4aaf-d2f1-a106cac633d2"
      },
      "outputs": [
        {
          "name": "stdout",
          "output_type": "stream",
          "text": [
            "Accuracy is 72.25%\n",
            "Precision is 53.23%\n",
            "Recall is 63.46%\n"
          ]
        }
      ],
      "source": [
        "\n",
        "accuracy_dt = accuracy_score(y_val, y_pred_val)*100\n",
        "precision_dt = precision_score(y_val, y_pred_val, average=\"binary\", pos_label=\"pos\")*100\n",
        "recall_dt = recall_score(y_val, y_pred_val, average=\"binary\", pos_label=\"pos\")*100\n",
        "\n",
        "print(f'Accuracy is {round(accuracy_score(y_val, y_pred_val)*100,2)}%')\n",
        "print(f'Precision is {round(precision_score(y_val, y_pred_val, average=\"binary\", pos_label=\"pos\")*100,2)}%')\n",
        "print(f'Recall is {round(recall_score(y_val, y_pred_val, average=\"binary\", pos_label=\"pos\")*100,2)}%')"
      ]
    },
    {
      "cell_type": "markdown",
      "metadata": {
        "id": "xwIDnQCmvvqj"
      },
      "source": [
        "Plot ROC curve and obtain AUC for predictions on the validation data."
      ]
    },
    {
      "cell_type": "code",
      "execution_count": 100,
      "metadata": {
        "colab": {
          "base_uri": "https://localhost:8080/",
          "height": 295
        },
        "id": "L9ZqUWdXv7D5",
        "outputId": "4a2e0f55-8fab-49b3-c6a1-de4bd1366a3e"
      },
      "outputs": [
        {
          "data": {
            "image/png": "[encoded data removed]",
            "text/plain": [
              "<Figure size 432x288 with 1 Axes>"
            ]
          },
          "metadata": {
            "needs_background": "light"
          },
          "output_type": "display_data"
        }
      ],
      "source": [
        "# Plot the ROC curve by giving appropriate names for title and axes. \n",
        "\n",
        "probs = clf.predict_proba(X_val)\n",
        "preds = probs[:,1]\n",
        "fpr, tpr, thresholds = roc_curve(y_val, preds, pos_label = 'pos')\n",
        "roc_auc = metrics.auc(fpr, tpr)\n",
        "\n",
        "plt.plot(fpr, tpr, label='ROC curve (area = %0.3f)' % roc_auc)\n",
        "plt.plot([0, 1], [0, 1], 'k--')  # random predictions curve\n",
        "plt.xlim([0.0, 1.0])\n",
        "plt.ylim([0.0, 1.05])\n",
        "plt.xlabel('False Positive Rate')\n",
        "plt.ylabel('True Positive Rate')\n",
        "plt.title('Receiver Operating Characteristic')\n",
        "plt.legend(loc=\"lower right\")\n",
        "plt.show()"
      ]
    },
    {
      "cell_type": "markdown",
      "metadata": {
        "id": "EHY7zX-LwNA-"
      },
      "source": [
        "Q. Based on the scores for training set and validation set, explain the performance of the above model in terms of bias and variance.<br>\n",
        "\n",
        "Ans - This model has low bias and high variance. This can be explained by the high performance metrics in the training dataset since we are using all the features in the dataset. However, the model has high variance which can be seen from the decline in performance metrics when the model is run on the validation dataset. In other words, we are heavily overfitting the model."
      ]
    },
    {
      "attachments": {},
      "cell_type": "markdown",
      "metadata": {
        "id": "Gn_lR52Hwb0V"
      },
      "source": [
        "### Random Forest\n",
        "\n",
        "\n",
        "Decision Trees have low predictive power compared to other methods due to high variance. Random Forest increases prediction power at the expense of decreased interpretability. \n",
        "\n",
        "\n",
        "From sklearn.ensemble used RandomForestClassifier to build a classification model with default parameters."
      ]
    },
    {
      "cell_type": "code",
      "execution_count": 101,
      "metadata": {
        "colab": {
          "base_uri": "https://localhost:8080/"
        },
        "id": "V11dWNRLwjfr",
        "outputId": "b76a2d07-729f-440e-9418-3b2833b159f2"
      },
      "outputs": [
        {
          "data": {
            "text/plain": [
              "RandomForestClassifier(random_state=30)"
            ]
          },
          "execution_count": 101,
          "metadata": {},
          "output_type": "execute_result"
        }
      ],
      "source": [
        "from sklearn.ensemble import RandomForestClassifier\n",
        "### Fit the classifier on the training data\n",
        "# Please set random_state=30\n",
        "rf = RandomForestClassifier(random_state = 30)\n",
        "rf.fit(X_train, y_train.values.ravel())"
      ]
    },
    {
      "cell_type": "code",
      "execution_count": 102,
      "metadata": {
        "id": "xYomCX4nw1yq"
      },
      "outputs": [],
      "source": [
        "### Make predictions on the training data\n",
        "y_train_pred = rf.predict(X_train)\n"
      ]
    },
    {
      "cell_type": "markdown",
      "metadata": {
        "id": "Q3wmGe-G1O4h"
      },
      "source": [
        "Print accuracy, precision and recall for the predictions made on the training data."
      ]
    },
    {
      "cell_type": "code",
      "execution_count": 103,
      "metadata": {
        "colab": {
          "base_uri": "https://localhost:8080/"
        },
        "id": "l_OUtD0Tbu0K",
        "outputId": "481da918-c7f0-4cfb-b9a5-be9499a4169b"
      },
      "outputs": [
        {
          "name": "stdout",
          "output_type": "stream",
          "text": [
            "Accuracy is 100.0%\n",
            "Precision is 100.0%\n",
            "Recall is 100.0%\n"
          ]
        }
      ],
      "source": [
        "print(f'Accuracy is {round(accuracy_score(y_train, y_train_pred)*100,2)}%')\n",
        "print(f'Precision is {round(precision_score(y_train, y_train_pred, average=\"binary\", pos_label=\"pos\")*100,2)}%')\n",
        "print(f'Recall is {round(recall_score(y_train, y_train_pred, average=\"binary\", pos_label=\"pos\")*100,2)}%')"
      ]
    },
    {
      "cell_type": "code",
      "execution_count": 105,
      "metadata": {
        "id": "k9WwHw3S1qvG"
      },
      "outputs": [],
      "source": [
        "### Make predictions on the validation data\n",
        "\n",
        "y_val_pred = rf.predict(X_val)"
      ]
    },
    {
      "cell_type": "markdown",
      "metadata": {
        "id": "Uq399RNb1tBH"
      },
      "source": [
        "Print accuracy, prediction and recall for the predictions made on the validation data."
      ]
    },
    {
      "cell_type": "code",
      "execution_count": 108,
      "metadata": {
        "colab": {
          "base_uri": "https://localhost:8080/"
        },
        "id": "1eDc8z5H1y8i",
        "outputId": "ff532b99-4d59-4d29-dbcd-302d24b4f611"
      },
      "outputs": [
        {
          "name": "stdout",
          "output_type": "stream",
          "text": [
            "Accuracy is 76.88%\n",
            "Precision is 60.0%\n",
            "Recall is 69.23%\n"
          ]
        }
      ],
      "source": [
        "\n",
        "accuracy_rf = accuracy_score(y_val, y_val_pred) * 100\n",
        "precision_rf = precision_score(y_val, y_val_pred, average=\"binary\", pos_label=\"pos\") * 100\n",
        "recall_rf = recall_score(y_val, y_val_pred, average=\"binary\", pos_label=\"pos\") * 100\n",
        "\n",
        "print(f'Accuracy is {round(accuracy_score(y_val, y_val_pred)*100,2)}%')\n",
        "print(f'Precision is {round(precision_score(y_val, y_val_pred, average=\"binary\", pos_label=\"pos\")*100,2)}%')\n",
        "print(f'Recall is {round(recall_score(y_val, y_val_pred, average=\"binary\", pos_label=\"pos\")*100,2)}%')"
      ]
    },
    {
      "cell_type": "markdown",
      "metadata": {
        "id": "5-aEzhnY31GG"
      },
      "source": [
        "Plot ROC curve and obtain AUC for the validation predictions"
      ]
    },
    {
      "cell_type": "code",
      "execution_count": 109,
      "metadata": {
        "colab": {
          "base_uri": "https://localhost:8080/",
          "height": 295
        },
        "id": "YBtxdmDa33fJ",
        "outputId": "9de391a6-f63c-44ea-87c8-1aae727971a1"
      },
      "outputs": [
        {
          "data": {
            "image/png": "[encoded data removed]",
            "text/plain": [
              "<Figure size 432x288 with 1 Axes>"
            ]
          },
          "metadata": {
            "needs_background": "light"
          },
          "output_type": "display_data"
        }
      ],
      "source": [
        "# Plot the ROC curve by giving appropriate names for title and axes. \n",
        "\n",
        "\n",
        "probs = rf.predict_proba(X_val)\n",
        "preds = probs[:,1]\n",
        "fpr, tpr, thresholds = roc_curve(y_val, preds, pos_label = 'pos')\n",
        "roc_auc = metrics.auc(fpr, tpr)\n",
        "\n",
        "plt.plot(fpr, tpr, label='ROC curve (area = %0.3f)' % roc_auc)\n",
        "plt.plot([0, 1], [0, 1], 'k--')  # random predictions curve\n",
        "plt.xlim([0.0, 1.0])\n",
        "plt.ylim([0.0, 1.05])\n",
        "plt.xlabel('False Positive Rate')\n",
        "plt.ylabel('True Positive Rate')\n",
        "plt.title('Receiver Operating Characteristic')\n",
        "plt.legend(loc=\"lower right\")\n",
        "plt.show()\n"
      ]
    },
    {
      "attachments": {},
      "cell_type": "markdown",
      "metadata": {
        "id": "fcld7NGV4GU_"
      },
      "source": [
        "\n",
        "\n",
        "**Bias & Variance tradeoff**\n",
        "\n",
        "Bias is the difference between the predicted value and the true value. Variance is the variability of model’s prediction for a given dataset  which tells us the spread of our data. \n",
        "Model with high bias pays very little attention to the training data and oversimplifies the model. It leads to high error on training and test data. Model with high variance pays a lot of attention to training data and does not generalize on unseen datasets. These models perform well on training data but have high error rates on test datasets.\n",
        "\n",
        "**Better model: Random Forest or Decision Tree?**\n",
        "\n",
        "In the above cases, both decision trees and random forest have low bias and high variance as indicated by the performance on the training dataset (accuracy, precision and recall of 100%) and subsequent reduction in performance on the validation sets. However, the random forest is an improvement over the decision tree and is better in terms of bias-variance tradeoff for the following reasons:\n",
        "\n",
        "a)\tThe random forest is an aggregation of several weaker decision tree models, which only uses a random subset of the features, making the decision trees decorrelated and therefore, the final random forest model more robust. As a result, the helps with the problem of overfitting and has lower variance when compared to the standalone decision tree model.\n",
        "\n",
        "b)\tThis improvement in performance can be seen from the F1 score and Area under the ROC curve (AUC). The decision tree model has an AUC of 69.7% and F1 score of 57.89% while the random forest has an AUC of 84.4% and F1 score of 64.29%."
      ]
    },
    {
      "cell_type": "markdown",
      "metadata": {
        "id": "IY8Pzi-B4WAz"
      },
      "source": [
        "## Hyperparameters\n",
        "\n",
        "\"Model tuning\" refers to model adjustments to better fit the data, which is separate from \"fitting\" or \"training\" the model.\n",
        "\n",
        "There are aspects of some models that are user specified. For example, when using a random forest (which is basically an ensemble of decision trees), it is probably a good idea to choose the right number of underlying trees. Too many and the model might overfit, and too few and the model might not be able to properly learn the data. Parameters such as these are referred to as \"hyperparameters\" or \"free parameters\", as the values for these are determined by the user and not the algorithm.\n",
        "\n",
        "A quick and efficient way to optimize hyperparameters is to perform Grid Search over different values of the parameters. "
      ]
    },
    {
      "cell_type": "code",
      "execution_count": 110,
      "metadata": {
        "id": "vH6HzdEB5JLP"
      },
      "outputs": [],
      "source": [
        "from sklearn.model_selection import GridSearchCV"
      ]
    },
    {
      "cell_type": "code",
      "execution_count": 78,
      "metadata": {
        "id": "9qQPsqjm5Mfb"
      },
      "outputs": [],
      "source": [
        "# In the below dictionary, filled in the list of values that you want to try out for each parameter\n",
        "\n",
        "param_grid = {\n",
        "    'max_depth': [10, 20, 30, 40, 50],\n",
        "    'max_features': ['auto', 'sqrt'],\n",
        "    'min_samples_leaf': [1, 2, 4],\n",
        "    'min_samples_split': [2, 5, 10],\n",
        "    'n_estimators': [100, 200, 300, 400, 500]\n",
        "}"
      ]
    },
    {
      "cell_type": "code",
      "execution_count": 79,
      "metadata": {
        "id": "8bIILs6ZdKzk"
      },
      "outputs": [],
      "source": [
        "rf = RandomForestClassifier(random_state=30)"
      ]
    },
    {
      "cell_type": "code",
      "execution_count": 80,
      "metadata": {
        "id": "pwKYkjAM510B"
      },
      "outputs": [],
      "source": [
        "grid_search = GridSearchCV(estimator = rf, param_grid = param_grid, \n",
        "                          cv = 5, n_jobs = -1, verbose = 1)"
      ]
    },
    {
      "cell_type": "code",
      "execution_count": 81,
      "metadata": {
        "colab": {
          "base_uri": "https://localhost:8080/"
        },
        "id": "adfXnU4qBuKj",
        "outputId": "7f36441a-e87d-471d-a1f2-4cc91a726c65"
      },
      "outputs": [
        {
          "name": "stdout",
          "output_type": "stream",
          "text": [
            "Fitting 5 folds for each of 450 candidates, totalling 2250 fits\n"
          ]
        },
        {
          "data": {
            "text/plain": [
              "GridSearchCV(cv=5, estimator=RandomForestClassifier(random_state=30), n_jobs=-1,\n",
              "             param_grid={'max_depth': [10, 20, 30, 40, 50],\n",
              "                         'max_features': ['auto', 'sqrt'],\n",
              "                         'min_samples_leaf': [1, 2, 4],\n",
              "                         'min_samples_split': [2, 5, 10],\n",
              "                         'n_estimators': [100, 200, 300, 400, 500]},\n",
              "             verbose=1)"
            ]
          },
          "execution_count": 81,
          "metadata": {},
          "output_type": "execute_result"
        }
      ],
      "source": [
        "### Fit on the training data with all sets of parameters.\n",
        "\n",
        "grid_search.fit(X_train, y_train.values.ravel())"
      ]
    },
    {
      "cell_type": "markdown",
      "metadata": {
        "id": "Ebakm868CRn0"
      },
      "source": [
        "Display the parameters of the best model."
      ]
    },
    {
      "cell_type": "code",
      "execution_count": 82,
      "metadata": {
        "colab": {
          "base_uri": "https://localhost:8080/"
        },
        "id": "1hXn1Bx3CMQG",
        "outputId": "87f4a326-0408-4c5b-c478-32608a43a282"
      },
      "outputs": [
        {
          "data": {
            "text/plain": [
              "{'max_depth': 10,\n",
              " 'max_features': 'auto',\n",
              " 'min_samples_leaf': 2,\n",
              " 'min_samples_split': 10,\n",
              " 'n_estimators': 100}"
            ]
          },
          "execution_count": 82,
          "metadata": {},
          "output_type": "execute_result"
        }
      ],
      "source": [
        "# Print the best parameters\n",
        "\n",
        "grid_search.best_params_"
      ]
    },
    {
      "cell_type": "code",
      "execution_count": 83,
      "metadata": {
        "colab": {
          "base_uri": "https://localhost:8080/"
        },
        "id": "VFZfOfsZCXTD",
        "outputId": "8c285a3a-f349-455d-df0d-6277f310988d"
      },
      "outputs": [
        {
          "data": {
            "text/plain": [
              "0.7965432098765431"
            ]
          },
          "execution_count": 83,
          "metadata": {},
          "output_type": "execute_result"
        }
      ],
      "source": [
        "# Print the best score\n",
        "grid_search.best_score_"
      ]
    },
    {
      "cell_type": "code",
      "execution_count": 91,
      "metadata": {
        "colab": {
          "base_uri": "https://localhost:8080/"
        },
        "id": "xf-7OQJCCq56",
        "outputId": "65a31709-c398-4302-a14e-29adafd5d5e9"
      },
      "outputs": [
        {
          "name": "stdout",
          "output_type": "stream",
          "text": [
            "Accuracy for the training set is 93.3%\n",
            "Precision for the training set is 92.96%\n",
            "Recall for the training set is 88.59%\n",
            "\n",
            "Accuracy for the validation set is 79.19%\n",
            "Precision for the validation set is 64.29%\n",
            "Recall for the validation set is 69.23%\n"
          ]
        }
      ],
      "source": [
        "### Make predictions on the training set and display accuracy, precision and recal using the best model\n",
        "### Make predictions on the validation set and display accuracy, precision and recall using the best model\n",
        "ytrain_pred_final = grid_search.best_estimator_.predict(X_train)\n",
        "yval_pred_final = grid_search.best_estimator_.predict(X_val)\n",
        "\n",
        "### Make predictions on the training set and display accuracy, precision and recall using the best model\n",
        "\n",
        "print(f'Accuracy for the training set is {round(accuracy_score(y_train, ytrain_pred_final)*100,2)}%')\n",
        "print(f'Precision for the training set is {round(precision_score(y_train, ytrain_pred_final, average=\"binary\", pos_label=\"pos\")*100,2)}%')\n",
        "print(f'Recall for the training set is {round(recall_score(y_train, ytrain_pred_final, average=\"binary\", pos_label=\"pos\")*100,2)}%')\n",
        "\n",
        "### Make predictions on the validation set and display accuracy, precision and recall using the best model\n",
        "\n",
        "print()\n",
        "print(f'Accuracy for the validation set is {round(accuracy_score(y_val, yval_pred_final)*100,2)}%')\n",
        "print(f'Precision for the validation set is {round(precision_score(y_val, yval_pred_final, average=\"binary\", pos_label=\"pos\")*100,2)}%')\n",
        "print(f'Recall for the validation set is {round(recall_score(y_val, yval_pred_final, average=\"binary\", pos_label=\"pos\")*100,2)}%')\n",
        "\n"
      ]
    },
    {
      "cell_type": "code",
      "execution_count": 92,
      "metadata": {
        "colab": {
          "base_uri": "https://localhost:8080/",
          "height": 295
        },
        "id": "M5m5sQo-GEbr",
        "outputId": "88ed0c1e-d049-4233-af70-3b437cfbcc9e"
      },
      "outputs": [
        {
          "data": {
            "image/png": "[encoded data removed]",
            "text/plain": [
              "<Figure size 432x288 with 1 Axes>"
            ]
          },
          "metadata": {
            "needs_background": "light"
          },
          "output_type": "display_data"
        }
      ],
      "source": [
        "# Plot the ROC curve on validation set by giving appropriate names for title and axes. \n",
        "\n",
        "probs = grid_search.best_estimator_.predict_proba(X_val)\n",
        "preds = probs[:,1]\n",
        "fpr, tpr, thresholds = roc_curve(y_val, preds, pos_label = 'pos')\n",
        "roc_auc = metrics.auc(fpr, tpr)\n",
        "\n",
        "plt.plot(fpr, tpr, label='ROC curve (area = %0.3f)' % roc_auc)\n",
        "plt.plot([0, 1], [0, 1], 'k--')  # random predictions curve\n",
        "plt.xlim([0.0, 1.0])\n",
        "plt.ylim([0.0, 1.05])\n",
        "plt.xlabel('False Positive Rate')\n",
        "plt.ylabel('True Positive Rate')\n",
        "plt.title('Receiver Operating Characteristic')\n",
        "plt.legend(loc=\"lower right\")\n",
        "plt.show()\n"
      ]
    },
    {
      "cell_type": "markdown",
      "metadata": {
        "id": "cvd27HmbGX9h"
      },
      "source": [
        "#### Test\n",
        "Choose the best hyperparameter values from the previous section. Use this random forest model to make predictions on test set."
      ]
    },
    {
      "cell_type": "code",
      "execution_count": 93,
      "metadata": {
        "id": "pyL57V9TGoTx"
      },
      "outputs": [],
      "source": [
        "# Construct your final random forest using the best hyperparameters obtained above\n",
        "\n",
        "# return the prediction as \"y_pred2\"\n",
        "\n",
        "y_preds2 = grid_search.best_estimator_.predict(X_test)\n",
        "y_preds2"
      ]
    },
    {
      "cell_type": "code",
      "execution_count": null,
      "metadata": {
        "id": "A41YH2cMJKb0"
      },
      "outputs": [],
      "source": [
        "#end"
      ]
    }
  ],
  "metadata": {
    "colab": {
      "provenance": []
    },
    "kernelspec": {
      "display_name": "base",
      "language": "python",
      "name": "python3"
    },
    "language_info": {
      "codemirror_mode": {
        "name": "ipython",
        "version": 3
      },
      "file_extension": ".py",
      "mimetype": "text/x-python",
      "name": "python",
      "nbconvert_exporter": "python",
      "pygments_lexer": "ipython3",
      "version": "3.9.12 (main, Apr  4 2022, 05:22:27) [MSC v.1916 64 bit (AMD64)]"
    },
    "vscode": {
      "interpreter": {
        "hash": "475fe5d41e1f3c0d71c9f9f51d7cf9647917b86fd476d7b25a7590aef470f1c7"
      }
    }
  },
  "nbformat": 4,
  "nbformat_minor": 0
}
